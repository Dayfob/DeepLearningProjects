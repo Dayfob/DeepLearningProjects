{
 "cells": [
  {
   "cell_type": "code",
   "execution_count": 17,
   "id": "48412abb-321d-4eab-9199-22ddb5491f9d",
   "metadata": {},
   "outputs": [
    {
     "data": {
      "text/plain": [
       "(tensor(0.5483), tensor(-0.0083))"
      ]
     },
     "execution_count": 17,
     "metadata": {},
     "output_type": "execute_result"
    }
   ],
   "source": [
    "import torch\n",
    "\n",
    "t_u = [35.7, 55.9, 58.2, 81.9, 56.3, 48.9, 33.9, 21.8, 48.4, 60.4, 68.4]\n",
    "t_c = [0.5, 14.0, 15.0, 28.0, 11.0, 8.0, 3.0, -4.0, 6.0, 13.0, 21.0]\n",
    "\n",
    "t_u = torch.tensor(t_u) #input\n",
    "t_c = torch.tensor(t_c) #ground truth\n",
    "\n",
    "def model(t_u, w, b):\n",
    "    return w * t_u + b\n",
    "\n",
    "t_p = model(t_u, 1.0, 1.0)\n",
    "\n",
    "# mean square loss function\n",
    "def loss_fn(t_p, t_c):\n",
    "    return ((t_p - t_c)**2).mean()\n",
    "\n",
    "# hyper-parameters\n",
    "delta = 0.1\n",
    "learning_rate = 0.01\n",
    "w = 1.0\n",
    "b = 0.0\n",
    "\n",
    "# delta L / delta w\n",
    "loss_rate_change_wrt_w = (loss_fn(model(t_u, w + delta, b), t_c) - loss_fn(model(t_u, w - delta, b), t_c)) / 2.0 * delta\n",
    "# delta L / delta b\n",
    "loss_rate_change_wrt_b = (loss_fn(model(t_u, w, b + delta), t_c) - loss_fn(model(t_u, w, b - delta), t_c)) / 2.0 * delta\n",
    "\n",
    "w = w - learning_rate * loss_rate_change_wrt_w\n",
    "b = b - learning_rate * loss_rate_change_wrt_b\n",
    "\n",
    "w,b"
   ]
  },
  {
   "cell_type": "code",
   "execution_count": 18,
   "id": "585f5d10-7cec-4aa8-9185-5afed6df9009",
   "metadata": {
    "editable": true,
    "slideshow": {
     "slide_type": ""
    },
    "tags": []
   },
   "outputs": [
    {
     "data": {
      "text/plain": [
       "tensor([4620.8970,   84.6000])"
      ]
     },
     "execution_count": 18,
     "metadata": {},
     "output_type": "execute_result"
    }
   ],
   "source": [
    "# d_l / d_m\n",
    "def d_loss_wrt_model(t_p, t_c):\n",
    "    return 2.0 * (t_p - t_c) / t_p.size(0)\n",
    "\n",
    "# d_m / d_w\n",
    "def d_model_wrt_w(t_u, w, b):\n",
    "    return t_u\n",
    "    \n",
    "# d_m / d_b\n",
    "def d_model_wrt_b(t_u, w, b):\n",
    "    return 1.0\n",
    "    \n",
    "# gradient of loss wrt params\n",
    "def gradient_fn(t_u, t_c, t_p, w, b):\n",
    "    d_loss_wrt_w = d_loss_wrt_model(t_p, t_c) * d_model_wrt_w(t_u, w, b)\n",
    "    d_loss_wrt_b = d_loss_wrt_model(t_p, t_c) * d_model_wrt_b(t_u, w, b)\n",
    "    return torch.stack([d_loss_wrt_w.sum(), d_loss_wrt_b.sum()])\n",
    "\n",
    "gradient_fn(t_u, t_c, t_p, w, b)"
   ]
  },
  {
   "cell_type": "code",
   "execution_count": 19,
   "id": "9e9a3c1a-3d6c-4df4-8313-154b159bebf1",
   "metadata": {},
   "outputs": [
    {
     "name": "stdout",
     "output_type": "stream",
     "text": [
      "epoch 1000 loss 28.212988\n",
      "epoch 2000 loss 27.342773\n",
      "epoch 3000 loss 26.502516\n",
      "epoch 4000 loss 25.691162\n",
      "epoch 5000 loss 24.907743\n",
      "epoch 6000 loss 24.151287\n",
      "epoch 7000 loss 23.420851\n",
      "epoch 8000 loss 22.715570\n",
      "epoch 9000 loss 22.034554\n",
      "epoch 10000 loss 21.376978\n"
     ]
    },
    {
     "data": {
      "text/plain": [
       "tensor([ 0.2811, -2.7911])"
      ]
     },
     "execution_count": 19,
     "metadata": {},
     "output_type": "execute_result"
    }
   ],
   "source": [
    "def training_loop(n_epoch, learning_rate, params, t_c, t_u):\n",
    "    for epoch in range(1, n_epoch + 1):\n",
    "        w, b = params\n",
    "        t_p = model(t_u, w, b)\n",
    "        grad = gradient_fn(t_u, t_c, t_p, w, b)\n",
    "        params = params - learning_rate * grad # gradient descent\n",
    "        if epoch % 1000 == 0:\n",
    "            print(\"epoch %d loss %f\" %(epoch, loss_fn(t_p, t_c)))\n",
    "    return params\n",
    "\n",
    "training_loop(n_epoch = 10000,\n",
    "              learning_rate = 0.0001,\n",
    "              params = torch.tensor([1.0, 0.0]),\n",
    "              t_c = t_c,\n",
    "              t_u = t_u)"
   ]
  },
  {
   "cell_type": "code",
   "execution_count": 20,
   "id": "577c64cc-9f94-49fe-a507-235ab6cd81ba",
   "metadata": {},
   "outputs": [
    {
     "name": "stdout",
     "output_type": "stream",
     "text": [
      "epoch 1000 loss 3.828538\n",
      "epoch 2000 loss 2.957698\n",
      "epoch 3000 loss 2.928648\n",
      "epoch 4000 loss 2.927680\n",
      "epoch 5000 loss 2.927648\n",
      "epoch 6000 loss 2.927647\n",
      "epoch 7000 loss 2.927645\n",
      "epoch 8000 loss 2.927645\n",
      "epoch 9000 loss 2.927645\n",
      "epoch 10000 loss 2.927645\n"
     ]
    }
   ],
   "source": [
    "t_u_normalized = t_u * 0.1\n",
    "\n",
    "params = training_loop(n_epoch = 10000,\n",
    "              learning_rate = 0.01,\n",
    "              params = torch.tensor([1.0, 0.0]),\n",
    "              t_c = t_c,\n",
    "              t_u = t_u_normalized)"
   ]
  },
  {
   "cell_type": "code",
   "execution_count": 21,
   "id": "683a269d-3f0e-4581-8dca-182910fdd2b7",
   "metadata": {},
   "outputs": [
    {
     "data": {
      "text/plain": [
       "tensor([  5.3676, -17.3042])"
      ]
     },
     "execution_count": 21,
     "metadata": {},
     "output_type": "execute_result"
    }
   ],
   "source": [
    "params"
   ]
  },
  {
   "cell_type": "code",
   "execution_count": 22,
   "id": "09623897-cd58-4b0a-9db6-b324a63f4b5e",
   "metadata": {},
   "outputs": [
    {
     "data": {
      "text/plain": [
       "[<matplotlib.lines.Line2D at 0x1d538d8db90>]"
      ]
     },
     "execution_count": 22,
     "metadata": {},
     "output_type": "execute_result"
    },
    {
     "data": {
      "image/png": "[encoded data removed]",
      "text/plain": [
       "<Figure size 640x480 with 1 Axes>"
      ]
     },
     "metadata": {},
     "output_type": "display_data"
    }
   ],
   "source": [
    "from matplotlib import pyplot as plt\n",
    "\n",
    "t_p = model(t_u_normalized, *params)\n",
    "plt.figure(dpi = 100)\n",
    "plt.xlabel(\"measurement\")\n",
    "plt.ylabel(\"celcius\")\n",
    "plt.plot(t_u.numpy(), t_p.numpy())\n",
    "plt.plot(t_u.numpy(), t_c.numpy(), 'o')"
   ]
  },
  {
   "cell_type": "code",
   "execution_count": 23,
   "id": "8791014a-ecbe-4e57-a691-5d63980085ac",
   "metadata": {},
   "outputs": [
    {
     "data": {
      "text/plain": [
       "tensor([-77.6140, -10.6400])"
      ]
     },
     "execution_count": 23,
     "metadata": {},
     "output_type": "execute_result"
    }
   ],
   "source": [
    "params = torch.tensor([1.0, 0.0], requires_grad=True)\n",
    "\n",
    "loss = loss_fn(model(t_u_normalized, *params), t_c)\n",
    "if params.grad is not None:\n",
    "        params.grad.zero_()\n",
    "loss.backward() #forcing back propogation\n",
    "params.grad"
   ]
  },
  {
   "cell_type": "code",
   "execution_count": 26,
   "id": "cd179098-6dfa-4770-977b-c25a2de1fa03",
   "metadata": {},
   "outputs": [],
   "source": [
    "def training_loop_2(n_epochs, learning_rate, params, t_c, t_u):\n",
    "    for epoch in range(1, 1 + n_epochs):\n",
    "        t_p = model(t_u, *params)\n",
    "        loss = loss_fn(t_p, t_c)\n",
    "        if params.grad is not None:\n",
    "            params.grad.zero_()\n",
    "        loss.backward() # gradient is computed and stored in params.grad\n",
    "        with torch.no_grad():\n",
    "            params -= learning_rate * params.grad # gradient descent\n",
    "        if (epoch % 1000 == 0):\n",
    "            print(\"epoch %d loss %f\" %(epoch, loss)) \n",
    "    return params"
   ]
  },
  {
   "cell_type": "code",
   "execution_count": 25,
   "id": "b86526af-13f7-43b4-9056-f330ba71a803",
   "metadata": {},
   "outputs": [
    {
     "name": "stdout",
     "output_type": "stream",
     "text": [
      "epoch 1000 loss 3.828538\n",
      "epoch 2000 loss 2.957698\n",
      "epoch 3000 loss 2.928648\n",
      "epoch 4000 loss 2.927679\n",
      "epoch 5000 loss 2.927647\n",
      "epoch 6000 loss 2.927647\n",
      "epoch 7000 loss 2.927645\n",
      "epoch 8000 loss 2.927645\n",
      "epoch 9000 loss 2.927645\n",
      "epoch 10000 loss 2.927645\n"
     ]
    }
   ],
   "source": [
    "params = training_loop_2(n_epochs = 10000,\n",
    "              learning_rate = 0.01,\n",
    "              params = torch.tensor([1.0, 0.0], requires_grad=True),\n",
    "              t_c = t_c,\n",
    "              t_u = t_u_normalized)"
   ]
  },
  {
   "cell_type": "code",
   "execution_count": 28,
   "id": "0de92298-1a41-4c81-9e07-dcf050dfe9a8",
   "metadata": {},
   "outputs": [],
   "source": [
    "import torch.optim as optim\n",
    "\n",
    "params = torch.tensor([1.0, 0.0], requires_grad=True)\n",
    "learning_rate = 0.001\n",
    "optimizer = optim.SGD([params], lr=learning_rate)\n",
    "t_p = model(t_u, *params)\n",
    "loss = loss_fn(t_p, t_c)\n",
    "optimizer.zero_grad()\n",
    "loss.backward()\n",
    "optimizer.step()"
   ]
  },
  {
   "cell_type": "code",
   "execution_count": null,
   "id": "8e62f18a-f2f5-48df-9a16-0fad8bcf4e4c",
   "metadata": {},
   "outputs": [],
   "source": []
  }
 ],
 "metadata": {
  "kernelspec": {
   "display_name": "Python 3 (ipykernel)",
   "language": "python",
   "name": "python3"
  },
  "language_info": {
   "codemirror_mode": {
    "name": "ipython",
    "version": 3
   },
   "file_extension": ".py",
   "mimetype": "text/x-python",
   "name": "python",
   "nbconvert_exporter": "python",
   "pygments_lexer": "ipython3",
   "version": "3.11.9"
  }
 },
 "nbformat": 4,
 "nbformat_minor": 5
}
