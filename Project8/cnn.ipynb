{
 "cells": [
  {
   "cell_type": "code",
   "execution_count": 21,
   "metadata": {},
   "outputs": [
    {
     "name": "stdout",
     "output_type": "stream",
     "text": [
      "Files already downloaded and verified\n",
      "Files already downloaded and verified\n",
      "Files already downloaded and verified\n",
      "10000 2000\n"
     ]
    }
   ],
   "source": [
    "from torchvision import datasets\n",
    "from torchvision import transforms\n",
    "from matplotlib import pyplot as plt\n",
    "import torch\n",
    "\n",
    "dataset_train = datasets.CIFAR10('.', train=True, download=True, transform=transforms.ToTensor())\n",
    "imgs = torch.stack([img for (img, label) in dataset_train], dim = 3)\n",
    "mean_deviation = imgs.view(3, -1).mean(dim=1)\n",
    "standard_deviation = imgs.view(3, -1).std(dim=1)\n",
    "\n",
    "dataset_train_transformed = datasets.CIFAR10('.', train=True, download=True, transform=transforms.Compose([\n",
    "    transforms.ToTensor(),\n",
    "    transforms.Normalize(mean_deviation.numpy(), standard_deviation.numpy())\n",
    "]))\n",
    "dataset_val_transformed = datasets.CIFAR10('.', train=False, download=True, transform=transforms.Compose([\n",
    "    transforms.ToTensor(),\n",
    "    transforms.Normalize(mean_deviation.numpy(), standard_deviation.numpy())\n",
    "]))\n",
    "\n",
    "label_map = {0:0, 2:1}\n",
    "class_names = [\"airplane\", \"bird\"]\n",
    "dataset_train = [(img, label_map[label]) for img, label in dataset_train_transformed if label in [0,2]]\n",
    "dataset_val = [(img, label_map[label]) for img, label in dataset_val_transformed if label in [0,2]]\n",
    "print(len(dataset_train), len(dataset_val))"
   ]
  },
  {
   "cell_type": "code",
   "execution_count": 22,
   "metadata": {},
   "outputs": [
    {
     "name": "stdout",
     "output_type": "stream",
     "text": [
      "torch.Size([16, 3, 3, 3])\n",
      "torch.Size([16])\n",
      "torch.Size([16, 3, 5, 5])\n",
      "torch.Size([16])\n"
     ]
    }
   ],
   "source": [
    "import torch.nn as nn\n",
    "\n",
    "conv = nn.Conv2d(3, 16, kernel_size=3) # 16 = batch size(number of kernels), 3=chanell size, 5 and 5 = height and width\n",
    "print(conv.weight.shape) # the shape of batch of kernels in conv\n",
    "print(conv.bias.shape) # the shape of biases in conv\n",
    "\n",
    "conv1 = nn.Conv2d(3, 16, kernel_size=5) #\n",
    "print(conv1.weight.shape) # the shape of batch of kernels in conv\n",
    "print(conv1.bias.shape) # the shape of biases in conv\n"
   ]
  },
  {
   "cell_type": "code",
   "execution_count": 23,
   "metadata": {},
   "outputs": [
    {
     "data": {
      "text/plain": [
       "torch.Size([1, 16, 30, 30])"
      ]
     },
     "execution_count": 23,
     "metadata": {},
     "output_type": "execute_result"
    }
   ],
   "source": [
    "img, lbl = dataset_train[0]\n",
    "out = conv(img.unsqueeze(0))\n",
    "out.shape # n_batches, n_kernels(n_chanels), height, width\n"
   ]
  },
  {
   "cell_type": "code",
   "execution_count": 24,
   "metadata": {},
   "outputs": [
    {
     "data": {
      "text/plain": [
       "torch.Size([1, 16, 28, 28])"
      ]
     },
     "execution_count": 24,
     "metadata": {},
     "output_type": "execute_result"
    }
   ],
   "source": [
    "img, lbl = dataset_train[0]\n",
    "out = conv1(img.unsqueeze(0))\n",
    "out.shape # n_batches, n_kernels(n_chanels), height, width"
   ]
  },
  {
   "cell_type": "code",
   "execution_count": 25,
   "metadata": {},
   "outputs": [
    {
     "name": "stderr",
     "output_type": "stream",
     "text": [
      "Clipping input data to the valid range for imshow with RGB data ([0..1] for floats or [0..255] for integers).\n"
     ]
    },
    {
     "data": {
      "text/plain": [
       "<matplotlib.image.AxesImage at 0x2bc04fe1590>"
      ]
     },
     "execution_count": 25,
     "metadata": {},
     "output_type": "execute_result"
    },
    {
     "data": {
      "image/png": "[encoded data removed]",
      "text/plain": [
       "<Figure size 640x480 with 1 Axes>"
      ]
     },
     "metadata": {},
     "output_type": "display_data"
    }
   ],
   "source": [
    "from matplotlib import pyplot as plt\n",
    "\n",
    "plt.imshow(img.permute(1,2,0))"
   ]
  },
  {
   "cell_type": "code",
   "execution_count": 26,
   "metadata": {},
   "outputs": [
    {
     "data": {
      "text/plain": [
       "<matplotlib.image.AxesImage at 0x2bc05314e50>"
      ]
     },
     "execution_count": 26,
     "metadata": {},
     "output_type": "execute_result"
    },
    {
     "data": {
      "image/png": "[encoded data removed]",
      "text/plain": [
       "<Figure size 640x480 with 1 Axes>"
      ]
     },
     "metadata": {},
     "output_type": "display_data"
    }
   ],
   "source": [
    "\n",
    "out = conv1(img.unsqueeze(0))\n",
    "plt.imshow(out[0,4].detach())"
   ]
  },
  {
   "cell_type": "code",
   "execution_count": 27,
   "metadata": {},
   "outputs": [
    {
     "name": "stdout",
     "output_type": "stream",
     "text": [
      "torch.Size([16, 3, 3, 3])\n",
      "torch.Size([16])\n",
      "torch.Size([16, 3, 5, 5])\n",
      "torch.Size([16])\n"
     ]
    }
   ],
   "source": [
    "import torch.nn as nn\n",
    "\n",
    "conv = nn.Conv2d(3, 16, kernel_size=3, padding=1)\n",
    "print(conv.weight.shape)\n",
    "print(conv.bias.shape) \n",
    "\n",
    "conv1 = nn.Conv2d(3, 16, kernel_size=5, padding=2)\n",
    "print(conv1.weight.shape)\n",
    "print(conv1.bias.shape)\n"
   ]
  },
  {
   "cell_type": "code",
   "execution_count": 28,
   "metadata": {},
   "outputs": [
    {
     "name": "stdout",
     "output_type": "stream",
     "text": [
      "torch.Size([1, 16, 32, 32])\n"
     ]
    },
    {
     "data": {
      "text/plain": [
       "<matplotlib.image.AxesImage at 0x2bc05324ed0>"
      ]
     },
     "execution_count": 28,
     "metadata": {},
     "output_type": "execute_result"
    },
    {
     "data": {
      "image/png": "[encoded data removed]",
      "text/plain": [
       "<Figure size 640x480 with 1 Axes>"
      ]
     },
     "metadata": {},
     "output_type": "display_data"
    }
   ],
   "source": [
    "out = conv(img.unsqueeze(0))\n",
    "print(out.shape)\n",
    "plt.imshow(out[0,0].detach())"
   ]
  },
  {
   "cell_type": "code",
   "execution_count": 29,
   "metadata": {},
   "outputs": [
    {
     "name": "stdout",
     "output_type": "stream",
     "text": [
      "torch.Size([1, 16, 32, 32])\n"
     ]
    },
    {
     "data": {
      "text/plain": [
       "<matplotlib.image.AxesImage at 0x2bc091bf310>"
      ]
     },
     "execution_count": 29,
     "metadata": {},
     "output_type": "execute_result"
    },
    {
     "data": {
      "image/png": "[encoded data removed]",
      "text/plain": [
       "<Figure size 640x480 with 1 Axes>"
      ]
     },
     "metadata": {},
     "output_type": "display_data"
    }
   ],
   "source": [
    "out = conv1(img.unsqueeze(0))\n",
    "print(out.shape)\n",
    "plt.imshow(out[0,0].detach())"
   ]
  },
  {
   "cell_type": "code",
   "execution_count": 30,
   "metadata": {},
   "outputs": [
    {
     "data": {
      "text/plain": [
       "<matplotlib.image.AxesImage at 0x2bc093e4450>"
      ]
     },
     "execution_count": 30,
     "metadata": {},
     "output_type": "execute_result"
    },
    {
     "data": {
      "image/png": "[encoded data removed]",
      "text/plain": [
       "<Figure size 640x480 with 1 Axes>"
      ]
     },
     "metadata": {},
     "output_type": "display_data"
    }
   ],
   "source": [
    "with torch.no_grad():\n",
    "    conv.bias.zero_()\n",
    "    conv.weight.fill_(1.0/9.0) # average in each channel and then add together within a neighborhood of 3x3\n",
    "\n",
    "out = conv(img.unsqueeze(0))\n",
    "plt.imshow(out[0,0].detach())"
   ]
  },
  {
   "cell_type": "code",
   "execution_count": 31,
   "metadata": {},
   "outputs": [
    {
     "data": {
      "text/plain": [
       "<matplotlib.image.AxesImage at 0x2bc0941f310>"
      ]
     },
     "execution_count": 31,
     "metadata": {},
     "output_type": "execute_result"
    },
    {
     "data": {
      "image/png": "[encoded data removed]",
      "text/plain": [
       "<Figure size 640x480 with 1 Axes>"
      ]
     },
     "metadata": {},
     "output_type": "display_data"
    }
   ],
   "source": [
    "with torch.no_grad():\n",
    "    conv.bias.zero_()\n",
    "    conv.weight[:] = torch.tensor([[-1.0, 0, 1.0],\n",
    "                                   [-1.0, 0, 1.0],\n",
    "                                   [-1.0, 0, 1.0]]) # identify vertical edges\n",
    "\n",
    "out = conv(img.unsqueeze(0))\n",
    "plt.imshow(out[0,0].detach())"
   ]
  },
  {
   "cell_type": "code",
   "execution_count": 32,
   "metadata": {},
   "outputs": [
    {
     "data": {
      "text/plain": [
       "<matplotlib.image.AxesImage at 0x2bc09281790>"
      ]
     },
     "execution_count": 32,
     "metadata": {},
     "output_type": "execute_result"
    },
    {
     "data": {
      "image/png": "[encoded data removed]",
      "text/plain": [
       "<Figure size 640x480 with 1 Axes>"
      ]
     },
     "metadata": {},
     "output_type": "display_data"
    }
   ],
   "source": [
    "with torch.no_grad():\n",
    "    conv.bias.zero_()\n",
    "    conv.weight[:] = torch.tensor([[-1.0, -1.0, -1.0],\n",
    "                                   [   0,    0,    0],\n",
    "                                   [ 1.0,  1.0,  1.0]]) # horizontal vertical edges\n",
    "\n",
    "out = conv(img.unsqueeze(0))\n",
    "plt.imshow(out[0,0].detach())"
   ]
  },
  {
   "cell_type": "code",
   "execution_count": 33,
   "metadata": {},
   "outputs": [
    {
     "name": "stderr",
     "output_type": "stream",
     "text": [
      "Clipping input data to the valid range for imshow with RGB data ([0..1] for floats or [0..255] for integers).\n"
     ]
    },
    {
     "name": "stdout",
     "output_type": "stream",
     "text": [
      "torch.Size([3, 16, 16])\n"
     ]
    },
    {
     "data": {
      "text/plain": [
       "<matplotlib.image.AxesImage at 0x2bc0942f310>"
      ]
     },
     "execution_count": 33,
     "metadata": {},
     "output_type": "execute_result"
    },
    {
     "data": {
      "image/png": "[encoded data removed]",
      "text/plain": [
       "<Figure size 640x480 with 1 Axes>"
      ]
     },
     "metadata": {},
     "output_type": "display_data"
    }
   ],
   "source": [
    "pool = nn.MaxPool2d(2)\n",
    "out = pool(img)\n",
    "print(out.shape)\n",
    "plt.imshow(out.permute(1,2,0))"
   ]
  },
  {
   "cell_type": "code",
   "execution_count": 34,
   "metadata": {},
   "outputs": [],
   "source": [
    "model = nn.Sequential(\n",
    "    nn.Conv2d(3, 16, kernel_size=3, padding=1), # output: 1 * 16 * 32 * 32\n",
    "                                            # kernel: 3 * 3 * 3 (n_in_features * kernel_width * kernel_height)\n",
    "                                            # batch of kernels: 16 * 3 * 3 * 3 (weight tensor) (n_kernels * n_in_features * kernel_width * kernel_height)\n",
    "                                            # biases: 1 bias per kernel, in total 16\n",
    "    nn.Tanh(),\n",
    "    nn.MaxPool2d(2),    # input: 1 * 16 * 32 * 32, output: 1 * 16 * 16 * 16\n",
    "\n",
    "    nn.Conv2d(16, 8, kernel_size=3, padding=1), # output: 1 * 8 * 16 * 16\n",
    "                                            # kernel: 16 * 3 * 3 (n_in_features * kernel_width * kernel_height)\n",
    "                                            # batch of kernels: 8 * 16 * 3 * 3 (weight) (n_kernels * n_in_features * kernel_width * kernel_height)\n",
    "                                            # biases: 1 bias per kernel, in total 8\n",
    "    nn.Tanh(),\n",
    "    nn.MaxPool2d(2),    # input: 1 * 8 * 16 * 16, output: 1 * 8 * 8 * 8\n",
    "\n",
    "    nn.Flatten(),      # we need to cerate a 1D version of what max pool returns and pass it to linear layer\n",
    "    nn.Linear(512, 32), # output: 1 * 32\n",
    "                        # 32 neurons, each having 512 weights and 1 bias\n",
    "                        # weights: 32 * 512, biases: 32\n",
    "    nn.Tanh(),\n",
    "    nn.Linear(32, 2),   # output: 1 * 2\n",
    "                        # 2 neurons, each having 32 weights and 1 bias\n",
    "                        # weights: 2 * 32, biases: 2\n",
    "    nn.Softmax(dim=1)\n",
    ")"
   ]
  },
  {
   "cell_type": "code",
   "execution_count": 35,
   "metadata": {},
   "outputs": [
    {
     "data": {
      "text/plain": [
       "tensor([[0.4732, 0.5268]], grad_fn=<SoftmaxBackward0>)"
      ]
     },
     "execution_count": 35,
     "metadata": {},
     "output_type": "execute_result"
    }
   ],
   "source": [
    "model(img.unsqueeze(0))"
   ]
  },
  {
   "cell_type": "code",
   "execution_count": 36,
   "metadata": {},
   "outputs": [
    {
     "data": {
      "text/plain": [
       "[torch.Size([16, 3, 3, 3]),\n",
       " torch.Size([16]),\n",
       " torch.Size([8, 16, 3, 3]),\n",
       " torch.Size([8]),\n",
       " torch.Size([32, 512]),\n",
       " torch.Size([32]),\n",
       " torch.Size([2, 32]),\n",
       " torch.Size([2])]"
      ]
     },
     "execution_count": 36,
     "metadata": {},
     "output_type": "execute_result"
    }
   ],
   "source": [
    "[param.shape for param in model.parameters()]"
   ]
  },
  {
   "cell_type": "code",
   "execution_count": 37,
   "metadata": {},
   "outputs": [
    {
     "data": {
      "text/plain": [
       "[432, 16, 1152, 8, 16384, 32, 64, 2]"
      ]
     },
     "execution_count": 37,
     "metadata": {},
     "output_type": "execute_result"
    }
   ],
   "source": [
    "[param.numel() for param in model.parameters()]\n"
   ]
  },
  {
   "cell_type": "code",
   "execution_count": 38,
   "metadata": {},
   "outputs": [
    {
     "data": {
      "text/plain": [
       "18090"
      ]
     },
     "execution_count": 38,
     "metadata": {},
     "output_type": "execute_result"
    }
   ],
   "source": [
    "sum([param.numel() for param in model.parameters()])"
   ]
  },
  {
   "cell_type": "code",
   "execution_count": 39,
   "metadata": {},
   "outputs": [],
   "source": [
    "class Net(nn.Module):\n",
    "    def __init__(self):\n",
    "        super().__init__()\n",
    "        self.conv1 = nn.Conv2d(3, 16, kernel_size=3, padding=1)\n",
    "        self.act1 = nn.Tanh()\n",
    "        self.pool1 = nn.MaxPool2d(2)\n",
    "\n",
    "        self.conv2 = nn.Conv2d(16, 8, kernel_size=3, padding=1)\n",
    "        self.act2 = nn.Tanh()\n",
    "        self.pool2 = nn.MaxPool2d(2)\n",
    "\n",
    "        self.fc1 = nn.Linear(512, 32)\n",
    "        self.act3 = nn.Tanh()\n",
    "        self.fc2 = nn.Linear(32, 2)\n",
    "        self.sftmx = nn.Softmax(dim=1)\n",
    "\n",
    "    def forward(self, x):\n",
    "        out = self.pool1(self.act1(self.conv1(x)))\n",
    "        out = self.pool2(self.act2(self.conv2(out)))\n",
    "        out = out.view(-1, 512) # flatten\n",
    "        out = self.sftmx(self.fc2(self.act3(self.fc1(out))))\n",
    "        return out"
   ]
  },
  {
   "cell_type": "code",
   "execution_count": 40,
   "metadata": {},
   "outputs": [
    {
     "data": {
      "text/plain": [
       "[432, 16, 1152, 8, 16384, 32, 64, 2]"
      ]
     },
     "execution_count": 40,
     "metadata": {},
     "output_type": "execute_result"
    }
   ],
   "source": [
    "model = Net()\n",
    "\n",
    "[param.numel() for param in model.parameters()]"
   ]
  },
  {
   "cell_type": "code",
   "execution_count": 41,
   "metadata": {},
   "outputs": [
    {
     "data": {
      "text/plain": [
       "tensor([[0.5227, 0.4773]], grad_fn=<SoftmaxBackward0>)"
      ]
     },
     "execution_count": 41,
     "metadata": {},
     "output_type": "execute_result"
    }
   ],
   "source": [
    "model(img.unsqueeze(0))"
   ]
  },
  {
   "cell_type": "code",
   "execution_count": 42,
   "metadata": {},
   "outputs": [],
   "source": [
    "import torch.nn.functional as F\n",
    "\n",
    "class Net(nn.Module):\n",
    "    def __init__(self):\n",
    "        super().__init__()\n",
    "        self.conv1 = nn.Conv2d(3, 16, kernel_size=3, padding=1)\n",
    "        self.conv2 = nn.Conv2d(16, 8, kernel_size=3, padding=1)\n",
    "\n",
    "        self.fc1 = nn.Linear(512, 32)\n",
    "        self.fc2 = nn.Linear(32, 2)\n",
    "\n",
    "    def forward(self, x):\n",
    "        out = F.max_pool2d(torch.tanh(self.conv1(x)), 2)\n",
    "        out = F.max_pool2d(torch.tanh(self.conv2(out)), 2)\n",
    "        out = out.view(-1, 512) # flatten\n",
    "        out = self.fc2(torch.tanh(self.fc1(out)))\n",
    "        return out"
   ]
  },
  {
   "cell_type": "code",
   "execution_count": 43,
   "metadata": {},
   "outputs": [
    {
     "data": {
      "text/plain": [
       "[432, 16, 1152, 8, 16384, 32, 64, 2]"
      ]
     },
     "execution_count": 43,
     "metadata": {},
     "output_type": "execute_result"
    }
   ],
   "source": [
    "model = Net()\n",
    "\n",
    "[param.numel() for param in model.parameters()]"
   ]
  },
  {
   "cell_type": "code",
   "execution_count": 44,
   "metadata": {},
   "outputs": [
    {
     "data": {
      "text/plain": [
       "tensor([[-0.0075,  0.2142]], grad_fn=<AddmmBackward0>)"
      ]
     },
     "execution_count": 44,
     "metadata": {},
     "output_type": "execute_result"
    }
   ],
   "source": [
    "model(img.unsqueeze(0))"
   ]
  },
  {
   "cell_type": "code",
   "execution_count": 45,
   "metadata": {},
   "outputs": [],
   "source": [
    "def training_loop(n_epochs, model, loss_fn, optimizer, train_loader):\n",
    "    for epoch in range(1, n_epochs + 1):\n",
    "        train_loss = 0.0\n",
    "        for (img, lbls) in train_loader:\n",
    "            outs = model(img)\n",
    "            loss = loss_fn(outs, lbls)\n",
    "            optimizer.zero_grad()\n",
    "            loss.backward()\n",
    "            optimizer.step()\n",
    "            train_loss += loss\n",
    "        if epoch % 10 == 0 or epoch <= 3:\n",
    "            print(\"epoch %d, loss %f\" %(epoch, train_loss/len(train_loader))) # average loss over all batches"
   ]
  },
  {
   "cell_type": "code",
   "execution_count": 46,
   "metadata": {},
   "outputs": [],
   "source": [
    "import torch.optim as optim\n",
    "import torch.utils\n",
    "import torch.utils.data\n",
    "\n",
    "train_loader = torch.utils.data.DataLoader(dataset_train, batch_size=64, shuffle=True)\n",
    "val_loader = torch.utils.data.DataLoader(dataset_val, batch_size=64, shuffle=False)"
   ]
  },
  {
   "cell_type": "code",
   "execution_count": 47,
   "metadata": {},
   "outputs": [
    {
     "name": "stdout",
     "output_type": "stream",
     "text": [
      "epoch 1, loss 0.561544\n",
      "epoch 2, loss 0.483348\n",
      "epoch 3, loss 0.450158\n",
      "epoch 10, loss 0.326817\n",
      "epoch 20, loss 0.290015\n",
      "epoch 30, loss 0.265445\n",
      "epoch 40, loss 0.247486\n",
      "epoch 50, loss 0.231824\n",
      "epoch 60, loss 0.218858\n",
      "epoch 70, loss 0.207570\n",
      "epoch 80, loss 0.191058\n",
      "epoch 90, loss 0.179691\n",
      "epoch 100, loss 0.166409\n"
     ]
    }
   ],
   "source": [
    "training_loop(\n",
    "    n_epochs=100,\n",
    "    model=model,\n",
    "    loss_fn=nn.CrossEntropyLoss(),\n",
    "    optimizer=optim.SGD(model.parameters(), lr=0.01),\n",
    "    train_loader=train_loader\n",
    ")"
   ]
  },
  {
   "cell_type": "code",
   "execution_count": 68,
   "metadata": {},
   "outputs": [],
   "source": [
    "def validate(model, loader):\n",
    "    total = 0\n",
    "    correct = 0\n",
    "    for (imgs, lbls) in loader:\n",
    "        imgs = imgs.to(device=dev)\n",
    "        lbls = lbls.to(device=dev) \n",
    "        outs = model(imgs)\n",
    "        max_vals, max_indexes = outs.max(dim=1)\n",
    "        correct += ((max_indexes == lbls).sum())\n",
    "        total += imgs.shape[0]\n",
    "    print(\"accuracy %f\" %(correct/total))"
   ]
  },
  {
   "cell_type": "code",
   "execution_count": 49,
   "metadata": {},
   "outputs": [
    {
     "name": "stdout",
     "output_type": "stream",
     "text": [
      "accuracy 0.845500\n"
     ]
    }
   ],
   "source": [
    "validate(model, val_loader)"
   ]
  },
  {
   "cell_type": "code",
   "execution_count": 50,
   "metadata": {},
   "outputs": [],
   "source": [
    "torch.save(model.state_dict(), \"./model.t\")"
   ]
  },
  {
   "cell_type": "code",
   "execution_count": 51,
   "metadata": {},
   "outputs": [
    {
     "data": {
      "text/plain": [
       "<All keys matched successfully>"
      ]
     },
     "execution_count": 51,
     "metadata": {},
     "output_type": "execute_result"
    }
   ],
   "source": [
    "loaded_model = Net()\n",
    "loaded_model.load_state_dict(torch.load(\"./model.t\"))"
   ]
  },
  {
   "cell_type": "code",
   "execution_count": 52,
   "metadata": {},
   "outputs": [
    {
     "name": "stdout",
     "output_type": "stream",
     "text": [
      "accuracy 0.845500\n"
     ]
    }
   ],
   "source": [
    "validate(loaded_model, val_loader)"
   ]
  },
  {
   "cell_type": "code",
   "execution_count": 88,
   "metadata": {},
   "outputs": [
    {
     "data": {
      "text/plain": [
       "device(type='cuda')"
      ]
     },
     "execution_count": 88,
     "metadata": {},
     "output_type": "execute_result"
    }
   ],
   "source": [
    "dev = torch.device(\"cuda\") if torch.cuda.is_available() else torch.device(\"cpu\")\n",
    "dev"
   ]
  },
  {
   "cell_type": "code",
   "execution_count": 89,
   "metadata": {},
   "outputs": [],
   "source": [
    "def training_loop(n_epochs, model, loss_fn, optimizer, train_loader):\n",
    "    for epoch in range(1, n_epochs + 1):\n",
    "        train_loss = 0.0\n",
    "        for (imgs, lbls) in train_loader:\n",
    "            imgs = imgs.to(device=dev)\n",
    "            lbls = lbls.to(device=dev) \n",
    "            outs = model(imgs)\n",
    "            loss = loss_fn(outs, lbls)\n",
    "\n",
    "            optimizer.zero_grad()\n",
    "            loss.backward()\n",
    "            optimizer.step()\n",
    "            train_loss += loss\n",
    "        if epoch % 10 == 0 or epoch <= 3:\n",
    "            print(\"epoch %d, loss %f\" %(epoch, train_loss/len(train_loader))) # average loss over all batches\n",
    "\n",
    "model = Net().to(device=dev)"
   ]
  },
  {
   "cell_type": "code",
   "execution_count": 55,
   "metadata": {},
   "outputs": [
    {
     "name": "stdout",
     "output_type": "stream",
     "text": [
      "epoch 1, loss 0.579292\n",
      "epoch 2, loss 0.499423\n",
      "epoch 3, loss 0.474120\n",
      "epoch 10, loss 0.338109\n",
      "epoch 20, loss 0.295610\n",
      "epoch 30, loss 0.270116\n",
      "epoch 40, loss 0.246834\n",
      "epoch 50, loss 0.230307\n",
      "epoch 60, loss 0.213896\n",
      "epoch 70, loss 0.198702\n",
      "epoch 80, loss 0.186012\n",
      "epoch 90, loss 0.171723\n",
      "epoch 100, loss 0.157938\n"
     ]
    }
   ],
   "source": [
    "training_loop(\n",
    "    n_epochs=100,\n",
    "    model=model,\n",
    "    loss_fn=nn.CrossEntropyLoss(),\n",
    "    optimizer=optim.SGD(model.parameters(), lr=0.01),\n",
    "    train_loader=train_loader\n",
    ")"
   ]
  },
  {
   "cell_type": "code",
   "execution_count": 56,
   "metadata": {},
   "outputs": [],
   "source": [
    "# import torch.nn as nn\n",
    "# import torch.nn.functional as F\n",
    "\n",
    "# class NetWidth(nn.Module):\n",
    "#     def __init__(self):\n",
    "#         super().__init__()\n",
    "#         self.conv1 = nn.Conv2d(3, 32, kernel_size=3, padding=1)     # output: 32*32*32 (!maxpooling 32*16*16)\n",
    "#         self.conv2 = nn.Conv2d(32, 16, kernel_size=3, padding=1)    # output: 16*16*16 (!maxpooling 16*8*8)\n",
    "\n",
    "#         self.fc1 = nn.Linear(16*8*8, 32)\n",
    "#         self.fc2 = nn.Linear(32, 2)\n",
    "\n",
    "#     def forward(self, x):\n",
    "#         out = F.max_pool2d(torch.tanh(self.conv1(x)), 2)    # !maxpooling 32*16*16\n",
    "#         out = F.max_pool2d(torch.tanh(self.conv2(out)), 2)  # !maxpooling 16*8*8\n",
    "#         out = out.view(-1, 16*8*8) # flatten\n",
    "#         out = self.fc2(torch.tanh(self.fc1(out)))\n",
    "#         return out\n",
    "\n",
    "import torch.nn as nn\n",
    "import torch.nn.functional as F\n",
    "\n",
    "class NetWidth(nn.Module):\n",
    "    def __init__(self, n_chann = 32):\n",
    "        super().__init__()\n",
    "        self.n_chann = n_chann\n",
    "        self.conv1 = nn.Conv2d(3, self.n_chann, kernel_size=3, padding=1)     # output: 32*32*32 (!maxpooling 32*16*16)\n",
    "        self.conv2 = nn.Conv2d(self.n_chann, (self.n_chann//2), kernel_size=3, padding=1)    # output: (n_chann/2)*16*16 (!maxpooling (n_chann/2)*8*8)\n",
    "\n",
    "        self.fc1 = nn.Linear((self.n_chann//2)*8*8, 32)\n",
    "        self.fc2 = nn.Linear(32, 2)\n",
    "\n",
    "    def forward(self, x):\n",
    "        out = F.max_pool2d(torch.tanh(self.conv1(x)), 2)    # !maxpooling 32*16*16\n",
    "        out = F.max_pool2d(torch.tanh(self.conv2(out)), 2)  # !maxpooling 16*8*8\n",
    "        out = out.view(-1, (self.n_chann//2)*8*8) # flatten\n",
    "        out = self.fc2(torch.tanh(self.fc1(out)))\n",
    "        return out"
   ]
  },
  {
   "cell_type": "code",
   "execution_count": 57,
   "metadata": {},
   "outputs": [],
   "source": [
    "model = NetWidth(32)"
   ]
  },
  {
   "cell_type": "code",
   "execution_count": 58,
   "metadata": {},
   "outputs": [
    {
     "data": {
      "text/plain": [
       "[torch.Size([32, 3, 3, 3]),\n",
       " torch.Size([32]),\n",
       " torch.Size([16, 32, 3, 3]),\n",
       " torch.Size([16]),\n",
       " torch.Size([32, 1024]),\n",
       " torch.Size([32]),\n",
       " torch.Size([2, 32]),\n",
       " torch.Size([2])]"
      ]
     },
     "execution_count": 58,
     "metadata": {},
     "output_type": "execute_result"
    }
   ],
   "source": [
    "[param.shape for param in model.parameters()]"
   ]
  },
  {
   "cell_type": "code",
   "execution_count": 59,
   "metadata": {},
   "outputs": [
    {
     "data": {
      "text/plain": [
       "[864, 32, 4608, 16, 32768, 32, 64, 2]"
      ]
     },
     "execution_count": 59,
     "metadata": {},
     "output_type": "execute_result"
    }
   ],
   "source": [
    "[param.numel() for param in model.parameters()]"
   ]
  },
  {
   "cell_type": "code",
   "execution_count": 60,
   "metadata": {},
   "outputs": [
    {
     "data": {
      "text/plain": [
       "38386"
      ]
     },
     "execution_count": 60,
     "metadata": {},
     "output_type": "execute_result"
    }
   ],
   "source": [
    "sum([param.numel() for param in model.parameters()])"
   ]
  },
  {
   "cell_type": "code",
   "execution_count": 61,
   "metadata": {},
   "outputs": [],
   "source": [
    "def training_loop_L2(n_epochs, model, loss_fn, optimizer, train_loader):\n",
    "    for epoch in range(1, n_epochs + 1):\n",
    "        train_loss = 0.0\n",
    "        for (imgs, lbls) in train_loader:\n",
    "            imgs = imgs.to(device=dev)\n",
    "            lbls = lbls.to(device=dev) \n",
    "            outs = model(imgs)\n",
    "            loss = loss_fn(outs, lbls)\n",
    "\n",
    "            L2_lam = 0.0001 # weight decay\n",
    "            loss += L2_lam * sum(p.pow(2.0).sum() for p in model.parameters()) # penalty on loss\n",
    "\n",
    "            optimizer.zero_grad()\n",
    "            loss.backward()\n",
    "            optimizer.step()\n",
    "            train_loss += loss\n",
    "        if epoch % 10 == 0 or epoch <= 3:\n",
    "            print(\"epoch %d, loss %f\" %(epoch, train_loss/len(train_loader))) # average loss over all batches"
   ]
  },
  {
   "cell_type": "code",
   "execution_count": 62,
   "metadata": {},
   "outputs": [],
   "source": [
    "import torch\n",
    "\n",
    "dev = torch.device(\"cuda\") if torch.cuda.is_available() else torch.device(\"cpu\")\n",
    "model = NetWidth().to(device=dev)"
   ]
  },
  {
   "cell_type": "code",
   "execution_count": 63,
   "metadata": {},
   "outputs": [
    {
     "name": "stdout",
     "output_type": "stream",
     "text": [
      "epoch 1, loss 0.559396\n",
      "epoch 2, loss 0.472671\n",
      "epoch 3, loss 0.439037\n",
      "epoch 10, loss 0.330692\n",
      "epoch 20, loss 0.279321\n",
      "epoch 30, loss 0.245262\n",
      "epoch 40, loss 0.215381\n",
      "epoch 50, loss 0.190123\n",
      "epoch 60, loss 0.171202\n",
      "epoch 70, loss 0.151824\n",
      "epoch 80, loss 0.128606\n",
      "epoch 90, loss 0.112500\n",
      "epoch 100, loss 0.096860\n"
     ]
    }
   ],
   "source": [
    "training_loop_L2(\n",
    "    n_epochs=100,\n",
    "    model=model,\n",
    "    loss_fn=nn.CrossEntropyLoss(),\n",
    "    optimizer=optim.SGD(model.parameters(), lr=0.01),\n",
    "    train_loader=train_loader\n",
    ")"
   ]
  },
  {
   "cell_type": "code",
   "execution_count": 69,
   "metadata": {},
   "outputs": [
    {
     "name": "stdout",
     "output_type": "stream",
     "text": [
      "accuracy 0.965200\n"
     ]
    }
   ],
   "source": [
    "validate(model, train_loader)"
   ]
  },
  {
   "cell_type": "code",
   "execution_count": 71,
   "metadata": {},
   "outputs": [
    {
     "name": "stdout",
     "output_type": "stream",
     "text": [
      "epoch 1, loss 0.537457\n",
      "epoch 2, loss 0.455920\n",
      "epoch 3, loss 0.410364\n",
      "epoch 10, loss 0.312154\n",
      "epoch 20, loss 0.268619\n",
      "epoch 30, loss 0.234517\n",
      "epoch 40, loss 0.206579\n",
      "epoch 50, loss 0.184042\n",
      "epoch 60, loss 0.159564\n",
      "epoch 70, loss 0.137350\n",
      "epoch 80, loss 0.120199\n",
      "epoch 90, loss 0.100963\n",
      "epoch 100, loss 0.084316\n"
     ]
    }
   ],
   "source": [
    "model = NetWidth().to(device=dev)\n",
    "training_loop(\n",
    "    n_epochs=100,\n",
    "    model=model,\n",
    "    loss_fn=nn.CrossEntropyLoss(),\n",
    "    optimizer=optim.SGD(model.parameters(), lr=0.01, weight_decay=0.0002),\n",
    "    train_loader=train_loader\n",
    ")"
   ]
  },
  {
   "cell_type": "code",
   "execution_count": 75,
   "metadata": {},
   "outputs": [
    {
     "name": "stdout",
     "output_type": "stream",
     "text": [
      "accuracy 0.963300\n"
     ]
    }
   ],
   "source": [
    "validate(model, train_loader)"
   ]
  },
  {
   "cell_type": "code",
   "execution_count": 76,
   "metadata": {},
   "outputs": [],
   "source": [
    "class NetDropOut(nn.Module):\n",
    "    def __init__(self, n_chann = 32):\n",
    "        super().__init__()\n",
    "        self.n_chann = n_chann\n",
    "        self.conv1 = nn.Conv2d(3, self.n_chann, kernel_size=3, padding=1)     # output: 32*32*32 (!maxpooling 32*16*16)\n",
    "        self.conv1_dropout = nn.Dropout2d(p=0.4)\n",
    "        \n",
    "        self.conv2 = nn.Conv2d(self.n_chann, (self.n_chann//2), kernel_size=3, padding=1)    # output: (n_chann/2)*16*16 (!maxpooling (n_chann/2)*8*8)\n",
    "        self.conv2_dropout = nn.Dropout2d(p=0.4)\n",
    "\n",
    "        self.fc1 = nn.Linear((self.n_chann//2)*8*8, 32)\n",
    "        self.fc2 = nn.Linear(32, 2)\n",
    "\n",
    "    def forward(self, x):\n",
    "        out = F.max_pool2d(torch.tanh(self.conv1(x)), 2)    # !maxpooling 32*16*16\n",
    "        out = self.conv1_dropout(out)\n",
    "\n",
    "        out = F.max_pool2d(torch.tanh(self.conv2(out)), 2)  # !maxpooling 16*8*8\n",
    "        out = self.conv2_dropout(out)\n",
    "\n",
    "        out = out.view(-1, (self.n_chann//2)*8*8) # flatten\n",
    "        out = self.fc2(torch.tanh(self.fc1(out)))\n",
    "        return out"
   ]
  },
  {
   "cell_type": "code",
   "execution_count": 77,
   "metadata": {},
   "outputs": [
    {
     "name": "stdout",
     "output_type": "stream",
     "text": [
      "epoch 1, loss 0.575227\n",
      "epoch 2, loss 0.501066\n",
      "epoch 3, loss 0.472117\n",
      "epoch 10, loss 0.379566\n",
      "epoch 20, loss 0.351040\n",
      "epoch 30, loss 0.327252\n",
      "epoch 40, loss 0.308645\n",
      "epoch 50, loss 0.295995\n",
      "epoch 60, loss 0.282843\n",
      "epoch 70, loss 0.269632\n",
      "epoch 80, loss 0.257583\n",
      "epoch 90, loss 0.243155\n",
      "epoch 100, loss 0.236907\n"
     ]
    }
   ],
   "source": [
    "model = NetDropOut().to(device=dev)\n",
    "training_loop(\n",
    "    n_epochs=100,\n",
    "    model=model,\n",
    "    loss_fn=nn.CrossEntropyLoss(),\n",
    "    optimizer=optim.SGD(model.parameters(), lr=0.01),\n",
    "    train_loader=train_loader\n",
    "    )"
   ]
  },
  {
   "cell_type": "code",
   "execution_count": 79,
   "metadata": {},
   "outputs": [
    {
     "name": "stdout",
     "output_type": "stream",
     "text": [
      "accuracy 0.906000\n",
      "accuracy 0.878000\n",
      "None None\n"
     ]
    }
   ],
   "source": [
    "print(validate(model, train_loader), validate(model, val_loader))"
   ]
  },
  {
   "cell_type": "code",
   "execution_count": 95,
   "metadata": {},
   "outputs": [],
   "source": [
    "class NetDepth(nn.Module):\n",
    "    def __init__(self, n_chann = 32):\n",
    "        super().__init__()\n",
    "        self.n_chann = n_chann\n",
    "        self.conv1 = nn.Conv2d(3, self.n_chann, kernel_size=3, padding=1)     # output: 32*32*32 (!maxpooling self.n_chann*16*16)\n",
    "        \n",
    "        self.conv2 = nn.Conv2d(self.n_chann, (self.n_chann//2), kernel_size=3, padding=1)    # output: (n_chann/2)*16*16 (!maxpooling (n_chann/2)*8*8)\n",
    "\n",
    "        self.conv3 = nn.Conv2d((self.n_chann//2), (self.n_chann//2), kernel_size=3, padding=1)# output: (n_chann/2)*8*8 (!maxpooling (n_chann/2)*4*4)\n",
    "\n",
    "        self.fc1 = nn.Linear((self.n_chann//2)*4*4, 32)\n",
    "        self.fc2 = nn.Linear(32, 2)\n",
    "\n",
    "    def forward(self, x):\n",
    "        out = F.max_pool2d(torch.relu(self.conv1(x)), 2)    # !maxpooling self.n_chann*16*16\n",
    "\n",
    "        out = F.max_pool2d(torch.relu(self.conv2(out)), 2)  # !maxpooling (n_chann/2)*8*8\n",
    "\n",
    "        out = F.max_pool2d(torch.relu(self.conv3(out)), 2)  # !maxpooling (n_chann/2)*4*4\n",
    "\n",
    "        out = out.view(-1, (self.n_chann//2)*4*4) # flatten\n",
    "        out = self.fc2(torch.relu(self.fc1(out)))\n",
    "        return out"
   ]
  },
  {
   "cell_type": "code",
   "execution_count": 96,
   "metadata": {},
   "outputs": [
    {
     "name": "stdout",
     "output_type": "stream",
     "text": [
      "epoch 1, loss 0.688350\n",
      "epoch 2, loss 0.660351\n",
      "epoch 3, loss 0.573459\n",
      "epoch 10, loss 0.346138\n",
      "epoch 20, loss 0.297159\n",
      "epoch 30, loss 0.264222\n",
      "epoch 40, loss 0.235195\n",
      "epoch 50, loss 0.212247\n",
      "epoch 60, loss 0.185651\n",
      "epoch 70, loss 0.162202\n",
      "epoch 80, loss 0.139912\n",
      "epoch 90, loss 0.117647\n",
      "epoch 100, loss 0.092580\n"
     ]
    }
   ],
   "source": [
    "model = NetDepth().to(device=dev)\n",
    "training_loop(\n",
    "    n_epochs=100,\n",
    "    model=model,\n",
    "    loss_fn=nn.CrossEntropyLoss(),\n",
    "    optimizer=optim.SGD(model.parameters(), lr=0.01),\n",
    "    train_loader=train_loader\n",
    "    )"
   ]
  },
  {
   "cell_type": "code",
   "execution_count": 97,
   "metadata": {},
   "outputs": [
    {
     "name": "stdout",
     "output_type": "stream",
     "text": [
      "accuracy 0.969100\n",
      "accuracy 0.909000\n",
      "None None\n"
     ]
    }
   ],
   "source": [
    "print(validate(model, train_loader), validate(model, val_loader))"
   ]
  },
  {
   "cell_type": "code",
   "execution_count": 99,
   "metadata": {},
   "outputs": [],
   "source": [
    "class NetRes(nn.Module):\n",
    "    def __init__(self, n_chann = 32):\n",
    "        super().__init__()\n",
    "        self.n_chann = n_chann\n",
    "        self.conv1 = nn.Conv2d(3, self.n_chann, kernel_size=3, padding=1)     # output: 32*32*32 (!maxpooling self.n_chann*16*16)\n",
    "        \n",
    "        self.conv2 = nn.Conv2d(self.n_chann, (self.n_chann//2), kernel_size=3, padding=1)    # output: (n_chann/2)*16*16 (!maxpooling (n_chann/2)*8*8)\n",
    "\n",
    "        self.conv3 = nn.Conv2d((self.n_chann//2), (self.n_chann//2), kernel_size=3, padding=1)# output: (n_chann/2)*8*8 (!maxpooling (n_chann/2)*4*4)\n",
    "\n",
    "        self.fc1 = nn.Linear((self.n_chann//2)*4*4, 32)\n",
    "        self.fc2 = nn.Linear(32, 2)\n",
    "\n",
    "    def forward(self, x):\n",
    "        out = F.max_pool2d(torch.relu(self.conv1(x)), 2)    # !maxpooling self.n_chann*16*16\n",
    "\n",
    "        out = F.max_pool2d(torch.relu(self.conv2(out)), 2)  # !maxpooling (n_chann/2)*8*8\n",
    "        \n",
    "        out1 = out\n",
    "        out = F.max_pool2d(torch.relu(self.conv3(out)) + out1, 2) # skip node  # !maxpooling (n_chann/2)*4*4\n",
    "\n",
    "        out = out.view(-1, (self.n_chann//2)*4*4) # flatten\n",
    "        out = self.fc2(torch.relu(self.fc1(out)))\n",
    "        return out"
   ]
  },
  {
   "cell_type": "code",
   "execution_count": 100,
   "metadata": {},
   "outputs": [
    {
     "name": "stdout",
     "output_type": "stream",
     "text": [
      "epoch 1, loss 0.660719\n",
      "epoch 2, loss 0.550960\n",
      "epoch 3, loss 0.461649\n",
      "epoch 10, loss 0.329723\n",
      "epoch 20, loss 0.284220\n",
      "epoch 30, loss 0.255228\n",
      "epoch 40, loss 0.228262\n",
      "epoch 50, loss 0.194920\n",
      "epoch 60, loss 0.169991\n",
      "epoch 70, loss 0.147930\n",
      "epoch 80, loss 0.129743\n",
      "epoch 90, loss 0.104053\n",
      "epoch 100, loss 0.081476\n"
     ]
    }
   ],
   "source": [
    "model = NetRes().to(device=dev)\n",
    "training_loop(\n",
    "    n_epochs=100,\n",
    "    model=model,\n",
    "    loss_fn=nn.CrossEntropyLoss(),\n",
    "    optimizer=optim.SGD(model.parameters(), lr=0.01),\n",
    "    train_loader=train_loader\n",
    "    )"
   ]
  },
  {
   "cell_type": "code",
   "execution_count": 101,
   "metadata": {},
   "outputs": [
    {
     "name": "stdout",
     "output_type": "stream",
     "text": [
      "accuracy 0.974600\n",
      "accuracy 0.895000\n",
      "None None\n"
     ]
    }
   ],
   "source": [
    "print(validate(model, train_loader), validate(model, val_loader))"
   ]
  },
  {
   "cell_type": "code",
   "execution_count": null,
   "metadata": {},
   "outputs": [],
   "source": []
  }
 ],
 "metadata": {
  "kernelspec": {
   "display_name": "base",
   "language": "python",
   "name": "python3"
  },
  "language_info": {
   "codemirror_mode": {
    "name": "ipython",
    "version": 3
   },
   "file_extension": ".py",
   "mimetype": "text/x-python",
   "name": "python",
   "nbconvert_exporter": "python",
   "pygments_lexer": "ipython3",
   "version": "3.11.9"
  }
 },
 "nbformat": 4,
 "nbformat_minor": 2
}
