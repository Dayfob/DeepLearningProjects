{
 "cells": [
  {
   "cell_type": "code",
   "execution_count": 23,
   "id": "4c9f8542-5d29-49b9-881c-1becc1bb476a",
   "metadata": {},
   "outputs": [
    {
     "name": "stdout",
     "output_type": "stream",
     "text": [
      "Files already downloaded and verified\n",
      "Files already downloaded and verified\n",
      "Files already downloaded and verified\n"
     ]
    },
    {
     "name": "stderr",
     "output_type": "stream",
     "text": [
      "Clipping input data to the valid range for imshow with RGB data ([0..1] for floats or [0..255] for integers).\n"
     ]
    },
    {
     "name": "stdout",
     "output_type": "stream",
     "text": [
      "50000 10000\n"
     ]
    },
    {
     "data": {
      "text/plain": [
       "<matplotlib.image.AxesImage at 0x1ee88088750>"
      ]
     },
     "execution_count": 23,
     "metadata": {},
     "output_type": "execute_result"
    },
    {
     "data": {
      "image/png": "[encoded data removed]",
      "text/plain": [
       "<Figure size 640x480 with 1 Axes>"
      ]
     },
     "metadata": {},
     "output_type": "display_data"
    }
   ],
   "source": [
    "# Download CIFAR 10 dataset for training and validation purposes and apply the following changes on each image:\n",
    "# 1) make it a tensor\n",
    "# 2) normalize it based on the mean and standard deviation among all pixels in each channel (RGB).\n",
    "# Print the size of training and validation datasets\n",
    "# Plot the last training image\n",
    "\n",
    "from torchvision import datasets\n",
    "from torchvision import transforms\n",
    "from matplotlib import pyplot as plt\n",
    "import torch\n",
    "\n",
    "# default dataset needed for normalization:\n",
    "dataset_train = datasets.CIFAR10('.', train=True, download=True, transform=transforms.ToTensor())\n",
    "\n",
    "# calculation values for normalization:\n",
    "imgs = torch.stack([img for (img, label) in dataset_train], dim = 3)\n",
    "mean_deviation = imgs.view(3, -1).mean(dim=1)\n",
    "standard_deviation = imgs.view(3, -1).std(dim=1)\n",
    "\n",
    "# normalized datasets:\n",
    "dataset_train_trans = datasets.CIFAR10('.', train=True, download=True, transform=transforms.Compose([\n",
    "    transforms.ToTensor(),\n",
    "    transforms.Normalize(mean_deviation.numpy(), standard_deviation.numpy())\n",
    "]))\n",
    "dataset_val_trans = datasets.CIFAR10('.', train=False, download=True, transform=transforms.Compose([\n",
    "    transforms.ToTensor(),\n",
    "    transforms.Normalize(mean_deviation.numpy(), standard_deviation.numpy())\n",
    "]))\n",
    "\n",
    "# print lengths and plot the last training image:\n",
    "len_dataset_train_trans = len(dataset_train_trans)\n",
    "len_dataset_val_trans = len(dataset_val_trans)\n",
    "\n",
    "print(len_dataset_train_trans, len_dataset_val_trans)\n",
    "img, label = dataset_train_trans.__getitem__(len_dataset_train_trans - 1)\n",
    "plt.imshow(img.permute(1,2,0))"
   ]
  },
  {
   "cell_type": "code",
   "execution_count": 24,
   "id": "f2d624f5-17cb-473e-8f5c-311327bd2c16",
   "metadata": {},
   "outputs": [
    {
     "name": "stderr",
     "output_type": "stream",
     "text": [
      "Clipping input data to the valid range for imshow with RGB data ([0..1] for floats or [0..255] for integers).\n"
     ]
    },
    {
     "name": "stdout",
     "output_type": "stream",
     "text": [
      "15000 3000\n"
     ]
    },
    {
     "data": {
      "text/plain": [
       "<matplotlib.image.AxesImage at 0x1ee8c7c9f10>"
      ]
     },
     "execution_count": 24,
     "metadata": {},
     "output_type": "execute_result"
    },
    {
     "data": {
      "image/png": "[encoded data removed]",
      "text/plain": [
       "<Figure size 640x480 with 1 Axes>"
      ]
     },
     "metadata": {},
     "output_type": "display_data"
    }
   ],
   "source": [
    "# We want to make a tertiary classifier that distinguishes between deers, dogs, and horses, labeled as 4, 5, and 7, resp.\n",
    "# Create the subset training and validation datasets for this purpose.\n",
    "# Print the size of these datasets.\n",
    "# Plot the last training image\n",
    "\n",
    "label_map = {4:0, 5:1, 7:2}\n",
    "class_names = [\"deers\", \"dogs\", \"horses\"]\n",
    "\n",
    "dataset_train_filtered  =   [(img, label_map[label]) for img, label in dataset_train_trans if label in [4,5,7]]\n",
    "dataset_val_filtered    =   [(img, label_map[label]) for img, label in dataset_val_trans if label in [4,5,7]]\n",
    "\n",
    "# print lengths and plot the last training image:\n",
    "len_dataset_train = len(dataset_train_filtered)\n",
    "len_dataset_val = len(dataset_val_filtered)\n",
    "\n",
    "print(len_dataset_train, len_dataset_val)\n",
    "img, label = dataset_train_filtered.__getitem__(len_dataset_train - 1)\n",
    "plt.imshow(img.permute(1,2,0))\n"
   ]
  },
  {
   "cell_type": "code",
   "execution_count": 47,
   "id": "17fdd55d-4b4e-4019-9dbf-78b8a6f3d807",
   "metadata": {},
   "outputs": [
    {
     "name": "stdout",
     "output_type": "stream",
     "text": [
      "3409923\n"
     ]
    }
   ],
   "source": [
    "# Create a NN consisting of \n",
    "# 1) a linear layer that receives appropriate number of input features and outputs 1024 features, followed by hyperbolic\n",
    "#    tangent as the activation function,\n",
    "# 2) a linear layer that receives appropriate number of input features and outputs 256 features, followed by hyperbolic\n",
    "#    tangent as the activation function,\n",
    "# 3) the final linear layer with appropriate input and output number of features, followed by logarithm of softmax\n",
    "# Print total number of exisiting parameters in the NN with respect to which gradient of loss must be computed.\n",
    "\n",
    "import torch.nn as nn\n",
    "\n",
    "n_classes = 3\n",
    "\n",
    "model = nn.Sequential(\n",
    "    nn.Linear(3072, 1024),\n",
    "    nn.Tanh(),\n",
    "    nn.Linear(1024, 256),\n",
    "    nn.Tanh(),\n",
    "    nn.Linear(256, n_classes),\n",
    "    nn.LogSoftmax(dim=1)\n",
    ")\n",
    "\n",
    "print(sum([param.numel() for param in model.parameters() if param.requires_grad==True]))\n"
   ]
  },
  {
   "cell_type": "code",
   "execution_count": 48,
   "id": "379ac1ff-6929-47ba-baf6-c2391338a355",
   "metadata": {},
   "outputs": [
    {
     "name": "stdout",
     "output_type": "stream",
     "text": [
      "469 94\n",
      "24 24\n"
     ]
    }
   ],
   "source": [
    "# Our training functionality is supposed to compute gradient on batches of training data, randlomy selected each time.\n",
    "# To this end, create a training data loader with batch size 32 that randomizes access to each batch.\n",
    "# Also, create a validation data loader with the same batch size that does not randomize access to each batch (no need!)\n",
    "# Print the number of batches in training and validation data loaders\n",
    "# Print the size of the last batch in each of the training and validation loaders (they are not necessarily 32)\n",
    "\n",
    "train_loader    = torch.utils.data.DataLoader(dataset_train_filtered, batch_size=32, shuffle=True)\n",
    "val_loader      = torch.utils.data.DataLoader(dataset_val_filtered, batch_size=32, shuffle=False)\n",
    "\n",
    "len_train_loader        = len(train_loader)\n",
    "len_val_loader          = len(val_loader)\n",
    "last_train_batch_size   = len([(imgs, labels) for imgs, labels in train_loader][len_train_loader - 1][0])\n",
    "last_val_batch_size     = len([(imgs, labels) for imgs, labels in val_loader][len_val_loader - 1][0])\n",
    "\n",
    "print(len_train_loader, len_val_loader)\n",
    "print(last_train_batch_size, last_val_batch_size)"
   ]
  },
  {
   "cell_type": "code",
   "execution_count": 49,
   "id": "687d3810-855a-4b0e-9a2a-f316981a97ce",
   "metadata": {},
   "outputs": [],
   "source": [
    "# Define your training function that receives the data loaders, model, loss function, optimizer, and number of epochs.\n",
    "# In each epoch, you should go through each training data batch, and:\n",
    "# 1) compute the output batch, and accordingly the loss\n",
    "# 2) compute the gradient of loss wrt parameters, and update the parameters\n",
    "# After covering all epochs, your training function must report\n",
    "# 1) the training accuracy, and\n",
    "# 2) the validation accuracy\n",
    "\n",
    "def training_loop(n_epochs, loss_fn, model, optimizer, train_loader, val_loader):\n",
    "    for epoch in range(1, 1 + n_epochs):\n",
    "        for imgs, labels in train_loader:\n",
    "            batch_size = imgs.shape[0]\n",
    "            outs = model(imgs.view(batch_size, -1)) # outs : batch_size * n_calsses\n",
    "            loss = loss_fn(outs, labels)\n",
    "\n",
    "            optimizer.zero_grad()\n",
    "            loss.backward()\n",
    "            optimizer.step()\n",
    "        if epoch % 10 == 0:\n",
    "            print(\"epoch=%d loss=%f\" %(epoch, loss)) # loss of last batch\n",
    "    \n",
    "    total = 0\n",
    "    correct = 0\n",
    "    for imgs, labels in train_loader:\n",
    "        batch_size = imgs.shape[0]\n",
    "        outs = model(imgs.view(batch_size, -1)) # outs : batch_size * n_calsses\n",
    "        max_vals, max_classes = outs.max(dim=1) # max_vals : batch_size, max_classes : batch_size\n",
    "        total += batch_size\n",
    "        correct += (max_classes == labels).sum() # number of correct pred in a single batch\n",
    "    print(\"training accuracy    =%f\" %(correct/total))\n",
    "\n",
    "    total = 0\n",
    "    correct = 0\n",
    "    for imgs, labels in val_loader:\n",
    "        batch_size = imgs.shape[0]\n",
    "        outs = model(imgs.view(batch_size, -1)) # outs : batch_size * n_calsses\n",
    "        max_vals, max_classes = outs.max(dim=1) # max_vals : batch_size, max_classes : batch_size\n",
    "        total += batch_size\n",
    "        correct += (max_classes == labels).sum() # number of correct pred in a single batch\n",
    "    print(\"validation accuracy  =%f\" %(correct/total))"
   ]
  },
  {
   "cell_type": "code",
   "execution_count": 51,
   "id": "ab6a40a7-729a-4db5-9170-b7a90ba28189",
   "metadata": {},
   "outputs": [
    {
     "name": "stdout",
     "output_type": "stream",
     "text": [
      "epoch=10 loss=0.582487\n",
      "epoch=20 loss=0.333631\n",
      "epoch=30 loss=0.272861\n",
      "epoch=40 loss=0.003044\n",
      "epoch=50 loss=0.002096\n",
      "epoch=60 loss=0.001421\n",
      "epoch=70 loss=0.001764\n",
      "epoch=80 loss=0.000775\n",
      "epoch=90 loss=0.000607\n",
      "epoch=100 loss=0.000569\n",
      "training accuracy    =1.000000\n",
      "validation accuracy  =0.652000\n"
     ]
    }
   ],
   "source": [
    "# Call the training function on the created data loaders, the created NN, negative log likelihood loss function, \n",
    "# stochastic gradient descent optimizer, and 100 epochs.\n",
    "# Is the model overfit for this problem? (Yes/No) Why?\n",
    "\n",
    "import torch.optim as optim\n",
    "\n",
    "training_loop(\n",
    "    n_epochs=100,\n",
    "    loss_fn=nn.NLLLoss(),\n",
    "    model=model,\n",
    "    optimizer=optim.SGD(model.parameters(), lr=0.01),\n",
    "    train_loader=train_loader,\n",
    "    val_loader=val_loader\n",
    ")\n",
    "\n",
    "# Yes. Considering the obtained model accuracy data, we can conclude that the model is overfitted.\n",
    "# An accuracy of 100% for training data and 65% for validation data indicates that the model does not perform well on unknown data.\n"
   ]
  },
  {
   "cell_type": "code",
   "execution_count": null,
   "id": "d8a74d90",
   "metadata": {},
   "outputs": [],
   "source": []
  }
 ],
 "metadata": {
  "kernelspec": {
   "display_name": "Python 3 (ipykernel)",
   "language": "python",
   "name": "python3"
  },
  "language_info": {
   "codemirror_mode": {
    "name": "ipython",
    "version": 3
   },
   "file_extension": ".py",
   "mimetype": "text/x-python",
   "name": "python",
   "nbconvert_exporter": "python",
   "pygments_lexer": "ipython3",
   "version": "3.11.9"
  }
 },
 "nbformat": 4,
 "nbformat_minor": 5
}
