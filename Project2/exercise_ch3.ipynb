{
 "cells": [
  {
   "cell_type": "code",
   "execution_count": 2,
   "id": "b64bb2c2-534a-4c17-86ab-57ea31e4346e",
   "metadata": {},
   "outputs": [
    {
     "data": {
      "text/plain": [
       "torch.Size([6, 3, 256, 256])"
      ]
     },
     "execution_count": 2,
     "metadata": {},
     "output_type": "execute_result"
    }
   ],
   "source": [
    "#Create a tensor t1 with random values that represents a batch of six RGB images of size 256 * 256.\n",
    "import torch\n",
    "\n",
    "t1 = torch.randn(6,3,256,256)\n",
    "t1.shape"
   ]
  },
  {
   "cell_type": "code",
   "execution_count": 7,
   "id": "25b3f693-198c-413c-8030-615a8b590320",
   "metadata": {},
   "outputs": [
    {
     "data": {
      "text/plain": [
       "(torch.Size([6, 128, 128]), torch.Size([6, 1, 128, 128]))"
      ]
     },
     "execution_count": 7,
     "metadata": {},
     "output_type": "execute_result"
    }
   ],
   "source": [
    "#Out of the created tensor t1, extract all six images' Green channel, restricted to the first 128 * 128 pixels.\n",
    "\n",
    "t1_green = t1[:,1,:128,:128]\n",
    "\n",
    "#What would be the size of this tensor?\n",
    "# Answer: torch.Size([6, 128, 128])\n",
    "\n",
    "t1_green.shape, torch.unsqueeze(t1_green, 1).shape"
   ]
  },
  {
   "cell_type": "code",
   "execution_count": 10,
   "id": "9b3fd81c-bd87-4db9-a54a-2aab20c9f4bb",
   "metadata": {},
   "outputs": [
    {
     "data": {
      "text/plain": [
       "torch.Size([6, 256, 256])"
      ]
     },
     "execution_count": 10,
     "metadata": {},
     "output_type": "execute_result"
    }
   ],
   "source": [
    "#In t1, compute the average of all three channels, i.e., change each image to a single channel image, by averaging\n",
    "# on all three channels in each pixel.\n",
    "\n",
    "t1_avg = t1.mean(1)\n",
    "\n",
    "#What is the size of this new tensor?\n",
    "# Answer: torch.Size([6, 256, 256])\n",
    "\n",
    "t1_avg.shape"
   ]
  },
  {
   "cell_type": "code",
   "execution_count": 16,
   "id": "17c5b8b9-5fb3-443c-b13a-dcaf2eab5f95",
   "metadata": {},
   "outputs": [
    {
     "data": {
      "text/plain": [
       "torch.float16"
      ]
     },
     "execution_count": 16,
     "metadata": {},
     "output_type": "execute_result"
    }
   ],
   "source": [
    "#Convert the tensor to contain 16 bit float values. And check its type.\n",
    "# Answer: torch.float16\n",
    "\n",
    "t1_16bit = t1.to(torch.float16)\n",
    "\n",
    "t1_16bit.dtype"
   ]
  },
  {
   "cell_type": "code",
   "execution_count": 27,
   "id": "a052b9ce-2da2-44a5-a7d7-d716159003eb",
   "metadata": {},
   "outputs": [
    {
     "data": {
      "text/plain": [
       "(tensor([[[[0., 0., 0.],\n",
       "           [0., 0., 0.]],\n",
       " \n",
       "          [[0., 0., 0.],\n",
       "           [0., 0., 0.]],\n",
       " \n",
       "          [[0., 0., 0.],\n",
       "           [0., 0., 0.]],\n",
       " \n",
       "          [[0., 0., 0.],\n",
       "           [0., 0., 0.]]],\n",
       " \n",
       " \n",
       "         [[[0., 0., 0.],\n",
       "           [0., 0., 0.]],\n",
       " \n",
       "          [[0., 0., 0.],\n",
       "           [0., 0., 0.]],\n",
       " \n",
       "          [[0., 0., 0.],\n",
       "           [0., 0., 0.]],\n",
       " \n",
       "          [[0., 0., 0.],\n",
       "           [0., 0., 0.]]],\n",
       " \n",
       " \n",
       "         [[[0., 0., 0.],\n",
       "           [0., 0., 0.]],\n",
       " \n",
       "          [[0., 0., 0.],\n",
       "           [0., 0., 0.]],\n",
       " \n",
       "          [[0., 0., 0.],\n",
       "           [0., 0., 0.]],\n",
       " \n",
       "          [[0., 0., 0.],\n",
       "           [0., 0., 0.]]],\n",
       " \n",
       " \n",
       "         [[[0., 0., 0.],\n",
       "           [0., 0., 0.]],\n",
       " \n",
       "          [[0., 0., 0.],\n",
       "           [0., 0., 0.]],\n",
       " \n",
       "          [[0., 0., 0.],\n",
       "           [0., 0., 0.]],\n",
       " \n",
       "          [[0., 0., 0.],\n",
       "           [0., 0., 0.]]],\n",
       " \n",
       " \n",
       "         [[[0., 0., 0.],\n",
       "           [0., 0., 0.]],\n",
       " \n",
       "          [[0., 0., 0.],\n",
       "           [0., 0., 0.]],\n",
       " \n",
       "          [[0., 0., 0.],\n",
       "           [0., 0., 0.]],\n",
       " \n",
       "          [[0., 0., 0.],\n",
       "           [0., 0., 0.]]]]),\n",
       " torch.Size([5, 4, 2, 3]),\n",
       " (24, 6, 3, 1))"
      ]
     },
     "execution_count": 27,
     "metadata": {},
     "output_type": "execute_result"
    }
   ],
   "source": [
    "#Assume that tensor t2 is of size n * m. What would be its stride?\n",
    "# Answer: (m, 1)\n",
    "n = 2\n",
    "m = 3\n",
    "p = 4\n",
    "q = 5\n",
    "\n",
    "t2 = torch.zeros(n, m)\n",
    "t2, t2.shape, t2.stride()\n",
    "\n",
    "#Assume that tensor t3 is of size p * n * m. What would be its stride?\n",
    "# Answer: (n*m, m, 1)\n",
    "\n",
    "t3 = torch.zeros(p, n, m)\n",
    "t3, t3.shape, t3.stride()\n",
    "\n",
    "#Assume that tensor t4 is of size q * p * n * m. What would be its stride?\n",
    "# Answer: (p*n*m, n*m, m, 1)\n",
    "\n",
    "t4 = torch.zeros(q, p, n, m)\n",
    "t4, t4.shape, t4.stride()\n",
    "\n",
    "#Can you generalize it? That is, assuming some tensor t has size n_1 * n_2 * ... * n_d, what would be its stride?\n",
    "# Answer: (n_2*...*n_d, n_3*...*n_d, ..., n_d-1*n_d, n_d, 1)\n"
   ]
  },
  {
   "cell_type": "code",
   "execution_count": null,
   "id": "0775760a-7048-4d28-9224-9b543a28d251",
   "metadata": {},
   "outputs": [],
   "source": []
  }
 ],
 "metadata": {
  "kernelspec": {
   "display_name": "Python 3 (ipykernel)",
   "language": "python",
   "name": "python3"
  },
  "language_info": {
   "codemirror_mode": {
    "name": "ipython",
    "version": 3
   },
   "file_extension": ".py",
   "mimetype": "text/x-python",
   "name": "python",
   "nbconvert_exporter": "python",
   "pygments_lexer": "ipython3",
   "version": "3.11.9"
  }
 },
 "nbformat": 4,
 "nbformat_minor": 5
}
