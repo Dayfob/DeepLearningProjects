import torch
# tensor of zeros:
t1 = torch.zeros(2,3)
t2 = torch.zeros(3,4,5)
# t1.shape

# t1[0,1]
# float(t1[0,1])
t1[0,1] = 7
t1


t3 = torch.tensor([[1,2],[3.9,4],[5,6]])
int(t3[1,0])


t3[::1,:]
# t3[inclusive:exclusive:step, ...(other dimentions)]


t3[::2]


t3[1:]


t3[1:2]


t3[-3]


t3[-1]


# transforms torch dimentionality
t3[None].shape


# transforms torch dimentionality to 0
torch.unsqueeze(t3,0).shape


# random values
img = torch.randn(3,4,4)


# calculates mean value of dimention 0
gray_scale_img = img.mean(0)
gray_scale_img.shape


batch = torch.randn(5,3,4,4)
gray_scale_batch = batch.mean(1)
gray_scale_batch.shape


weights = torch.tensor([.21,.71,.08])
weights * 8


weights


t5 = torch.zeros(2,3)
t6 = torch.rand(2,3)
t5, t6, t5 * t6


weights.shape, weights.unsqueeze(-1).unsqueeze(-1).shape, torch.unsqueeze(weights, -1).shape


weights_unsq = weights.unsqueeze(-1).unsqueeze(-1)

(img * weights_unsq), (img * weights_unsq).sum(), (img * weights_unsq).sum(-3)


gray_scale_img_weighted = (img * weights_unsq).sum(-3)
gray_scale_batch_weighted = (batch * weights_unsq).sum(-3)


weights_named = torch.tensor([.21,.71,.08], names=["chanels"])
img_named = img.refine_names(..., 'chanels', 'height', 'width')
img_named.names

weights_named, weights_named.align_as(img_named)


weights_aligned = weights_named.align_as(img_named)
weights_aligned.names


(img_named * weights_aligned).shape, (img_named * weights_aligned).sum("chanels"), (img_named * weights_aligned).sum("chanels").shape



gray_scaled_img_named = (img_named * weights_aligned).sum("chanels")


t4 = torch.tensor([1,2,3,4,5,6,7], dtype=torch.int)
t5 = t4.to(torch.float32)
(t5 * t4).dtype


pts = torch.tensor([[1,2],[3.5,4],[5,6]])
pts.dtype


pts_storage = pts.storage()
pts_storage


pts_storage[2]


pts_storage[2] = 7
pts_storage[2]


pts.storage_offset(), pts.


torch.save(t1, './t1.t')


t1_loaded = torch.load('./t1.t')
t1_loaded



