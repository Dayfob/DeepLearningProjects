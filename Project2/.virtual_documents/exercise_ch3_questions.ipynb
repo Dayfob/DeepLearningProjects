#Create a tensor t1 with random values that represents a batch of six RGB images of size 256 * 256.
import torch

t1 = torch.randn(6,3,256,256)
t1.shape


#Out of the created tensor t1, extract all six images' Green channel, restricted to the first 128 * 128 pixels.

t1_green = t1[:,1,:128,:128]

#What would be the size of this tensor?
# Answer: torch.Size([6, 128, 128])

t1_green.shape, torch.unsqueeze(t1_green, 1).shape


#In t1, compute the average of all three channels, i.e., change each image to a single channel image, by averaging
# on all three channels in each pixel.

t1_avg = t1.mean(1)

#What is the size of this new tensor?
# Answer: torch.Size([6, 256, 256])

t1_avg.shape


#Convert the tensor to contain 16 bit float values. And check its type.
# Answer: torch.float16

t1_16bit = t1.to(torch.float16)

t1_16bit.dtype


#Assume that tensor t2 is of size n * m. What would be its stride?
# Answer: (m, 1)
n = 2
m = 3
p = 4
q = 5

t2 = torch.zeros(n, m)
t2, t2.shape, t2.stride()

#Assume that tensor t3 is of size p * n * m. What would be its stride?
# Answer: (n*m, m, 1)

t3 = torch.zeros(p, n, m)
t3, t3.shape, t3.stride()

#Assume that tensor t4 is of size q * p * n * m. What would be its stride?
# Answer: (p*n*m, n*m, m, 1)

t4 = torch.zeros(q, p, n, m)
t4, t4.shape, t4.stride()

#Can you generalize it? That is, assuming some tensor t has size n_1 * n_2 * ... * n_d, what would be its stride?
# Answer: (n_2*...*n_d, n_3*...*n_d, ..., n_d-1*n_d, n_d, 1)




