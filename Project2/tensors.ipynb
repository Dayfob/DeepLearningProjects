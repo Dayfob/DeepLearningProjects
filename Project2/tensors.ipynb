{
 "cells": [
  {
   "cell_type": "code",
   "execution_count": 11,
   "id": "824b719e-8eee-4505-8e60-66351d680c13",
   "metadata": {},
   "outputs": [
    {
     "data": {
      "text/plain": [
       "tensor([[0., 7., 0.],\n",
       "        [0., 0., 0.]])"
      ]
     },
     "execution_count": 11,
     "metadata": {},
     "output_type": "execute_result"
    }
   ],
   "source": [
    "import torch\n",
    "# tensor of zeros:\n",
    "t1 = torch.zeros(2,3)\n",
    "t2 = torch.zeros(3,4,5)\n",
    "# t1.shape\n",
    "\n",
    "# t1[0,1]\n",
    "# float(t1[0,1])\n",
    "t1[0,1] = 7\n",
    "t1"
   ]
  },
  {
   "cell_type": "code",
   "execution_count": 17,
   "id": "b2ba55d0-6835-4893-8852-fdf4a7c37985",
   "metadata": {},
   "outputs": [
    {
     "data": {
      "text/plain": [
       "3"
      ]
     },
     "execution_count": 17,
     "metadata": {},
     "output_type": "execute_result"
    }
   ],
   "source": [
    "t3 = torch.tensor([[1,2],[3.9,4],[5,6]])\n",
    "int(t3[1,0])"
   ]
  },
  {
   "cell_type": "code",
   "execution_count": 45,
   "id": "af0e8175-9edf-4d5a-81a9-5047480da9d4",
   "metadata": {},
   "outputs": [
    {
     "data": {
      "text/plain": [
       "tensor([[1.0000, 2.0000],\n",
       "        [3.9000, 4.0000],\n",
       "        [5.0000, 6.0000]])"
      ]
     },
     "execution_count": 45,
     "metadata": {},
     "output_type": "execute_result"
    }
   ],
   "source": [
    "t3[::1,:]\n",
    "# t3[inclusive:exclusive:step, ...(other dimentions)]"
   ]
  },
  {
   "cell_type": "code",
   "execution_count": 32,
   "id": "e7077609-441a-4030-87a2-72ca03d108f4",
   "metadata": {},
   "outputs": [
    {
     "data": {
      "text/plain": [
       "tensor([[1., 2.],\n",
       "        [5., 6.]])"
      ]
     },
     "execution_count": 32,
     "metadata": {},
     "output_type": "execute_result"
    }
   ],
   "source": [
    "t3[::2]"
   ]
  },
  {
   "cell_type": "code",
   "execution_count": 20,
   "id": "48562aca-2d6f-4a31-ab78-3a55c2265e2e",
   "metadata": {},
   "outputs": [
    {
     "data": {
      "text/plain": [
       "tensor([[3.9000, 4.0000],\n",
       "        [5.0000, 6.0000]])"
      ]
     },
     "execution_count": 20,
     "metadata": {},
     "output_type": "execute_result"
    }
   ],
   "source": [
    "t3[1:]"
   ]
  },
  {
   "cell_type": "code",
   "execution_count": 24,
   "id": "2e00b4cd-35b3-4ab7-8fa5-a0d4c0848529",
   "metadata": {},
   "outputs": [
    {
     "data": {
      "text/plain": [
       "tensor([[3.9000, 4.0000]])"
      ]
     },
     "execution_count": 24,
     "metadata": {},
     "output_type": "execute_result"
    }
   ],
   "source": [
    "t3[1:2]"
   ]
  },
  {
   "cell_type": "code",
   "execution_count": 27,
   "id": "e6e4bb3c-e5c7-4980-a96e-7a6358505c53",
   "metadata": {},
   "outputs": [
    {
     "data": {
      "text/plain": [
       "tensor([1., 2.])"
      ]
     },
     "execution_count": 27,
     "metadata": {},
     "output_type": "execute_result"
    }
   ],
   "source": [
    "t3[-3]"
   ]
  },
  {
   "cell_type": "code",
   "execution_count": 28,
   "id": "4a0430d0-1ce8-47a4-9443-476186297195",
   "metadata": {},
   "outputs": [
    {
     "data": {
      "text/plain": [
       "tensor([5., 6.])"
      ]
     },
     "execution_count": 28,
     "metadata": {},
     "output_type": "execute_result"
    }
   ],
   "source": [
    "t3[-1]"
   ]
  },
  {
   "cell_type": "code",
   "execution_count": 60,
   "id": "ff84c140-3536-465f-92bb-797308657c13",
   "metadata": {},
   "outputs": [
    {
     "data": {
      "text/plain": [
       "torch.Size([1, 3, 2])"
      ]
     },
     "execution_count": 60,
     "metadata": {},
     "output_type": "execute_result"
    }
   ],
   "source": [
    "# transforms torch dimentionality\n",
    "t3[None].shape"
   ]
  },
  {
   "cell_type": "code",
   "execution_count": 61,
   "id": "6d4e5d81-ab04-4e60-b567-029332d3ff2b",
   "metadata": {},
   "outputs": [
    {
     "data": {
      "text/plain": [
       "torch.Size([1, 3, 2])"
      ]
     },
     "execution_count": 61,
     "metadata": {},
     "output_type": "execute_result"
    }
   ],
   "source": [
    "# transforms torch dimentionality to 0\n",
    "torch.unsqueeze(t3,0).shape"
   ]
  },
  {
   "cell_type": "code",
   "execution_count": 63,
   "id": "176ba74b-bba5-468c-8700-b2fd2543055a",
   "metadata": {},
   "outputs": [
    {
     "data": {
      "text/plain": [
       "tensor([[[-0.8223, -0.1808,  0.7716, -0.1390],\n",
       "         [ 0.3916, -2.0030, -0.7577, -1.0750],\n",
       "         [-0.7333,  0.9284, -1.4597,  0.4628],\n",
       "         [ 0.0900,  0.1922, -1.9928,  0.1781]],\n",
       "\n",
       "        [[-1.5392,  0.9824, -0.3427,  0.7230],\n",
       "         [-0.2919,  0.1609, -0.1563,  0.4609],\n",
       "         [-1.3158,  0.5797, -0.3716, -0.4470],\n",
       "         [ 1.3083, -0.0478, -0.1181,  2.1652]],\n",
       "\n",
       "        [[-0.3323,  0.4669,  0.5752, -0.3322],\n",
       "         [ 0.7940, -0.8676,  0.8491,  0.1085],\n",
       "         [ 0.7727,  1.2219, -1.3843,  0.9365],\n",
       "         [-1.1223, -0.3128, -0.4047, -0.9582]]])"
      ]
     },
     "execution_count": 63,
     "metadata": {},
     "output_type": "execute_result"
    }
   ],
   "source": [
    "# random values\n",
    "img = torch.randn(3,4,4)"
   ]
  },
  {
   "cell_type": "code",
   "execution_count": 73,
   "id": "af9114b2-c5b2-4e3d-8188-63445c649f7d",
   "metadata": {},
   "outputs": [
    {
     "data": {
      "text/plain": [
       "tensor([[-0.8979,  0.4229,  0.3347,  0.0839],\n",
       "        [ 0.2979, -0.9032, -0.0216, -0.1685],\n",
       "        [-0.4255,  0.9100, -1.0719,  0.3174],\n",
       "        [ 0.0920, -0.0561, -0.8385,  0.4617]])"
      ]
     },
     "execution_count": 73,
     "metadata": {},
     "output_type": "execute_result"
    }
   ],
   "source": [
    "# calculates mean value of dimention 0\n",
    "gray_scale_img = img.mean(0)\n",
    "gray_scale_img.shape"
   ]
  },
  {
   "cell_type": "code",
   "execution_count": 76,
   "id": "54a122b3-dc0c-4410-bc8c-3fc58ca33634",
   "metadata": {},
   "outputs": [
    {
     "data": {
      "text/plain": [
       "torch.Size([5, 4, 4])"
      ]
     },
     "execution_count": 76,
     "metadata": {},
     "output_type": "execute_result"
    }
   ],
   "source": [
    "batch = torch.randn(5,3,4,4)\n",
    "gray_scale_batch = batch.mean(1)\n",
    "gray_scale_batch.shape"
   ]
  },
  {
   "cell_type": "code",
   "execution_count": 100,
   "id": "84668d19-664c-4d0a-ad7d-d2f1ca905e36",
   "metadata": {},
   "outputs": [
    {
     "data": {
      "text/plain": [
       "tensor([1.6800, 5.6800, 0.6400])"
      ]
     },
     "execution_count": 100,
     "metadata": {},
     "output_type": "execute_result"
    }
   ],
   "source": [
    "weights = torch.tensor([.21,.71,.08])\n",
    "weights * 8"
   ]
  },
  {
   "cell_type": "code",
   "execution_count": 101,
   "id": "5527fb97-1183-452c-920f-2c7d810e73f9",
   "metadata": {},
   "outputs": [
    {
     "data": {
      "text/plain": [
       "tensor([0.2100, 0.7100, 0.0800])"
      ]
     },
     "execution_count": 101,
     "metadata": {},
     "output_type": "execute_result"
    }
   ],
   "source": [
    "weights"
   ]
  },
  {
   "cell_type": "code",
   "execution_count": 102,
   "id": "8cc94cb5-8647-4832-9eec-773a1d5780f5",
   "metadata": {},
   "outputs": [
    {
     "data": {
      "text/plain": [
       "(tensor([[0., 0., 0.],\n",
       "         [0., 0., 0.]]),\n",
       " tensor([[0.4515, 0.5421, 0.1442],\n",
       "         [0.7619, 0.3828, 0.5676]]),\n",
       " tensor([[0., 0., 0.],\n",
       "         [0., 0., 0.]]))"
      ]
     },
     "execution_count": 102,
     "metadata": {},
     "output_type": "execute_result"
    }
   ],
   "source": [
    "t5 = torch.zeros(2,3)\n",
    "t6 = torch.rand(2,3)\n",
    "t5, t6, t5 * t6"
   ]
  },
  {
   "cell_type": "code",
   "execution_count": 103,
   "id": "c4767216-57f6-49b4-9a28-bbb7c40184f2",
   "metadata": {},
   "outputs": [
    {
     "data": {
      "text/plain": [
       "(torch.Size([3]), torch.Size([3, 1, 1]), torch.Size([3, 1]))"
      ]
     },
     "execution_count": 103,
     "metadata": {},
     "output_type": "execute_result"
    }
   ],
   "source": [
    "weights.shape, weights.unsqueeze(-1).unsqueeze(-1).shape, torch.unsqueeze(weights, -1).shape"
   ]
  },
  {
   "cell_type": "code",
   "execution_count": 104,
   "id": "a99c2641-54a1-498e-9730-814bad791183",
   "metadata": {},
   "outputs": [
    {
     "data": {
      "text/plain": [
       "(tensor([[[-0.1727, -0.0380,  0.1620, -0.0292],\n",
       "          [ 0.0822, -0.4206, -0.1591, -0.2257],\n",
       "          [-0.1540,  0.1950, -0.3065,  0.0972],\n",
       "          [ 0.0189,  0.0404, -0.4185,  0.0374]],\n",
       " \n",
       "         [[-1.0929,  0.6975, -0.2434,  0.5133],\n",
       "          [-0.2073,  0.1143, -0.1110,  0.3273],\n",
       "          [-0.9342,  0.4116, -0.2639, -0.3174],\n",
       "          [ 0.9289, -0.0339, -0.0839,  1.5373]],\n",
       " \n",
       "         [[-0.0266,  0.0374,  0.0460, -0.0266],\n",
       "          [ 0.0635, -0.0694,  0.0679,  0.0087],\n",
       "          [ 0.0618,  0.0978, -0.1107,  0.0749],\n",
       "          [-0.0898, -0.0250, -0.0324, -0.0767]]]),\n",
       " tensor(-0.0480),\n",
       " tensor([[-1.2921,  0.6969, -0.0353,  0.4576],\n",
       "         [-0.0615, -0.3758, -0.2022,  0.1102],\n",
       "         [-1.0264,  0.7043, -0.6811, -0.1453],\n",
       "         [ 0.8580, -0.0186, -0.5347,  1.4981]]))"
      ]
     },
     "execution_count": 104,
     "metadata": {},
     "output_type": "execute_result"
    }
   ],
   "source": [
    "weights_unsq = weights.unsqueeze(-1).unsqueeze(-1)\n",
    "\n",
    "(img * weights_unsq), (img * weights_unsq).sum(), (img * weights_unsq).sum(-3)"
   ]
  },
  {
   "cell_type": "code",
   "execution_count": 105,
   "id": "953af32b-0952-44ad-a577-84f41464cc83",
   "metadata": {},
   "outputs": [],
   "source": [
    "gray_scale_img_weighted = (img * weights_unsq).sum(-3)\n",
    "gray_scale_batch_weighted = (batch * weights_unsq).sum(-3)"
   ]
  },
  {
   "cell_type": "code",
   "execution_count": 112,
   "id": "f6fa1053-e314-4232-b79b-ca90f8aa8995",
   "metadata": {},
   "outputs": [
    {
     "data": {
      "text/plain": [
       "(tensor([0.2100, 0.7100, 0.0800], names=('chanels',)),\n",
       " tensor([[[0.2100]],\n",
       " \n",
       "         [[0.7100]],\n",
       " \n",
       "         [[0.0800]]], names=('chanels', 'height', 'width')))"
      ]
     },
     "execution_count": 112,
     "metadata": {},
     "output_type": "execute_result"
    }
   ],
   "source": [
    "weights_named = torch.tensor([.21,.71,.08], names=[\"chanels\"])\n",
    "img_named = img.refine_names(..., 'chanels', 'height', 'width')\n",
    "img_named.names\n",
    "\n",
    "weights_named, weights_named.align_as(img_named)"
   ]
  },
  {
   "cell_type": "code",
   "execution_count": 114,
   "id": "66a085ac-033b-4214-ab00-e70e011b09b9",
   "metadata": {},
   "outputs": [
    {
     "data": {
      "text/plain": [
       "('chanels', 'height', 'width')"
      ]
     },
     "execution_count": 114,
     "metadata": {},
     "output_type": "execute_result"
    }
   ],
   "source": [
    "weights_aligned = weights_named.align_as(img_named)\n",
    "weights_aligned.names"
   ]
  },
  {
   "cell_type": "code",
   "execution_count": 122,
   "id": "c5ff6890-b98c-4800-a3de-56677e0f5067",
   "metadata": {},
   "outputs": [
    {
     "data": {
      "text/plain": [
       "(torch.Size([3, 4, 4]),\n",
       " tensor([[-1.2921,  0.6969, -0.0353,  0.4576],\n",
       "         [-0.0615, -0.3758, -0.2022,  0.1102],\n",
       "         [-1.0264,  0.7043, -0.6811, -0.1453],\n",
       "         [ 0.8580, -0.0186, -0.5347,  1.4981]], names=('height', 'width')),\n",
       " torch.Size([4, 4]))"
      ]
     },
     "execution_count": 122,
     "metadata": {},
     "output_type": "execute_result"
    }
   ],
   "source": [
    "(img_named * weights_aligned).shape, (img_named * weights_aligned).sum(\"chanels\"), (img_named * weights_aligned).sum(\"chanels\").shape\n"
   ]
  },
  {
   "cell_type": "code",
   "execution_count": 123,
   "id": "a04f07fb-6bb7-49c1-b12f-75746fa54c71",
   "metadata": {},
   "outputs": [],
   "source": [
    "gray_scaled_img_named = (img_named * weights_aligned).sum(\"chanels\")"
   ]
  },
  {
   "cell_type": "code",
   "execution_count": 126,
   "id": "cf0d35ef-d39c-46a3-84c7-67da605d27c8",
   "metadata": {},
   "outputs": [
    {
     "data": {
      "text/plain": [
       "torch.float32"
      ]
     },
     "execution_count": 126,
     "metadata": {},
     "output_type": "execute_result"
    }
   ],
   "source": [
    "t4 = torch.tensor([1,2,3,4,5,6,7], dtype=torch.int)\n",
    "t5 = t4.to(torch.float32)\n",
    "(t5 * t4).dtype"
   ]
  },
  {
   "cell_type": "code",
   "execution_count": 128,
   "id": "58490dc4-1754-4e76-b75f-fa907384e109",
   "metadata": {},
   "outputs": [
    {
     "data": {
      "text/plain": [
       "torch.float32"
      ]
     },
     "execution_count": 128,
     "metadata": {},
     "output_type": "execute_result"
    }
   ],
   "source": [
    "pts = torch.tensor([[1,2],[3.5,4],[5,6]])\n",
    "pts.dtype"
   ]
  },
  {
   "cell_type": "code",
   "execution_count": 138,
   "id": "5f4f792d-4e98-428b-ab22-501d3ebf2c9b",
   "metadata": {},
   "outputs": [
    {
     "data": {
      "text/plain": [
       " 1.0\n",
       " 2.0\n",
       " 3.5\n",
       " 4.0\n",
       " 5.0\n",
       " 6.0\n",
       "[torch.storage.TypedStorage(dtype=torch.float32, device=cpu) of size 6]"
      ]
     },
     "execution_count": 138,
     "metadata": {},
     "output_type": "execute_result"
    }
   ],
   "source": [
    "pts_storage = pts.storage()\n",
    "pts_storage"
   ]
  },
  {
   "cell_type": "code",
   "execution_count": 139,
   "id": "0556e3c6-72df-4908-a263-a1aa3acec2bb",
   "metadata": {},
   "outputs": [
    {
     "data": {
      "text/plain": [
       "3.5"
      ]
     },
     "execution_count": 139,
     "metadata": {},
     "output_type": "execute_result"
    }
   ],
   "source": [
    "pts_storage[2]"
   ]
  },
  {
   "cell_type": "code",
   "execution_count": 141,
   "id": "a497019c-4727-45f3-bf90-49000f0c4a46",
   "metadata": {},
   "outputs": [
    {
     "data": {
      "text/plain": [
       "7.0"
      ]
     },
     "execution_count": 141,
     "metadata": {},
     "output_type": "execute_result"
    }
   ],
   "source": [
    "pts_storage[2] = 7\n",
    "pts_storage[2]"
   ]
  },
  {
   "cell_type": "code",
   "execution_count": 143,
   "id": "0ca510ec-98eb-49f6-b60c-8fb145fbec36",
   "metadata": {},
   "outputs": [
    {
     "data": {
      "text/plain": [
       "0"
      ]
     },
     "execution_count": 143,
     "metadata": {},
     "output_type": "execute_result"
    }
   ],
   "source": [
    "pts.storage_offset(), pts."
   ]
  },
  {
   "cell_type": "code",
   "execution_count": 144,
   "id": "fd12f183-a313-4583-9ebd-c4f2d331ab23",
   "metadata": {},
   "outputs": [],
   "source": [
    "torch.save(t1, './t1.t')"
   ]
  },
  {
   "cell_type": "code",
   "execution_count": 146,
   "id": "24ac049b-0627-4811-abf5-b63653be2482",
   "metadata": {},
   "outputs": [
    {
     "data": {
      "text/plain": [
       "tensor([[0., 7., 0.],\n",
       "        [0., 0., 0.]])"
      ]
     },
     "execution_count": 146,
     "metadata": {},
     "output_type": "execute_result"
    }
   ],
   "source": [
    "t1_loaded = torch.load('./t1.t')\n",
    "t1_loaded"
   ]
  },
  {
   "cell_type": "code",
   "execution_count": null,
   "id": "3cc80803-0632-46f3-807c-9685ad3aa0a2",
   "metadata": {},
   "outputs": [],
   "source": []
  }
 ],
 "metadata": {
  "kernelspec": {
   "display_name": "Python 3 (ipykernel)",
   "language": "python",
   "name": "python3"
  },
  "language_info": {
   "codemirror_mode": {
    "name": "ipython",
    "version": 3
   },
   "file_extension": ".py",
   "mimetype": "text/x-python",
   "name": "python",
   "nbconvert_exporter": "python",
   "pygments_lexer": "ipython3",
   "version": "3.11.9"
  }
 },
 "nbformat": 4,
 "nbformat_minor": 5
}
