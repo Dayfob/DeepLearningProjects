{
 "cells": [
  {
   "cell_type": "code",
   "execution_count": 83,
   "id": "a442a9a8-b49e-4101-a382-2e3342d7c9c9",
   "metadata": {},
   "outputs": [],
   "source": [
    "# Input and output vectors are given. \n",
    "inp = [ 0.7300, -1.0400, -1.2300,  1.6700, -0.6300,  1.4300, -0.8400,  0.1500,\n",
    "         -2.3000,  3.1000, -1.4500, -1.8100,  1.8700, -0.1100, -0.2800,  1.1200,\n",
    "         -0.4200,  2.8900]\n",
    "out = [ 1.43,  10.1,  8.3,  1.03,  10.21, -0.1,  8.92,  5.1,\n",
    "         -7.53, 34.72,  7.61,  3.2,  2.19,  7.15,  7.69, -0.18,\n",
    "          8.81, 23.1]"
   ]
  },
  {
   "cell_type": "code",
   "execution_count": 84,
   "id": "07978b6d-94d0-473b-a137-7199551249a4",
   "metadata": {},
   "outputs": [],
   "source": [
    "# Prepare the training and validation datasets: 80% training, 20% validation\n",
    "\n",
    "import torch\n",
    "\n",
    "inp = torch.tensor(inp).unsqueeze(1) #input\n",
    "out = torch.tensor(out).unsqueeze(1) #ground truth\n",
    "\n",
    "n_samples = inp.shape[0]\n",
    "n_val = int (0.2 * n_samples)\n",
    "\n",
    "random_indexes = torch.randperm(n_samples)\n",
    "train_indexes = random_indexes[:-n_val]\n",
    "val_indexes = random_indexes[-n_val:]\n",
    "\n",
    "inp_train = inp[train_indexes]\n",
    "out_train = out[train_indexes]\n",
    "inp_val = inp[val_indexes]\n",
    "out_val = out[val_indexes]"
   ]
  },
  {
   "cell_type": "code",
   "execution_count": 85,
   "id": "0fa9e83f-8cf1-4ef0-bede-e6356e16634c",
   "metadata": {},
   "outputs": [
    {
     "name": "stdout",
     "output_type": "stream",
     "text": [
      "model params:\n",
      "\n",
      "<bound method Module.parameters of Sequential(\n",
      "  (hidden_linear_1): Linear(in_features=1, out_features=15, bias=True)\n",
      "  (hidden_activation_1): Tanh()\n",
      "  (hidden_linear_2): Linear(in_features=15, out_features=23, bias=True)\n",
      "  (hidden_activation_2): Tanh()\n",
      "  (output_linear): Linear(in_features=23, out_features=1, bias=True)\n",
      ")> \n",
      "\n",
      "hidden_linear_1 weight = torch.Size([15, 1])\n",
      "hidden_linear_1 bias   = torch.Size([15])\n",
      "\n",
      "\n",
      "hidden_linear_2 weight = torch.Size([23, 15])\n",
      "hidden_linear_2 bias   = torch.Size([23])\n",
      "\n",
      "\n",
      "output_linear weight   = torch.Size([1, 23])\n",
      "output_linear bias     = torch.Size([1])\n"
     ]
    }
   ],
   "source": [
    "# Create a NN that consists of:\n",
    "# a linear layer of input size 1 and output size 15, followed by hyperbolic tangent as its activation function\n",
    "# a linear layer of input size 15 and output size 23, followed by hyperbolic tangent as its activation function\n",
    "# a linear layer of input size 23 and output size 1\n",
    "\n",
    "import torch.nn as nn\n",
    "from collections import OrderedDict\n",
    "\n",
    "model = nn.Sequential(OrderedDict([\n",
    "    ('hidden_linear_1',     nn.Linear(1,15)),\n",
    "    ('hidden_activation_1', nn.Tanh()),\n",
    "    ('hidden_linear_2',     nn.Linear(15,23)),\n",
    "    ('hidden_activation_2', nn.Tanh()),\n",
    "    ('output_linear',       nn.Linear(23,1)),\n",
    "]))\n",
    "\n",
    "# Write a little script that shows the number of parameters in each layer.\n",
    "# Based on the output of this script, report as a comment in your code how many weights and biases exist in each layer.\n",
    "\n",
    "print(\"model params:\\n\")\n",
    "print(model.parameters, \"\\n\")\n",
    "print(\"hidden_linear_1 weight =\",   model.hidden_linear_1.weight.shape) # Layer 1: 15 weights   (1 weight per neuron)\n",
    "print(\"hidden_linear_1 bias   =\",   model.hidden_linear_1.bias.shape)   # Layer 1: 15 biases    (1 bias per neuron)\n",
    "print(\"\\n\")\n",
    "print(\"hidden_linear_2 weight =\",   model.hidden_linear_2.weight.shape) # Layer 2: 345 weights  (15 weights per neuron)\n",
    "print(\"hidden_linear_2 bias   =\",   model.hidden_linear_2.bias.shape)   # Layer 2: 23 biases    (1 bias per neuron)\n",
    "print(\"\\n\")\n",
    "print(\"output_linear weight   =\",   model.output_linear.weight.shape)   # Layer 3: 23 weights   (23 weights per neuron)\n",
    "print(\"output_linear bias     =\",   model.output_linear.bias.shape)     # Layer 3: 1 biases     (1 bias per neuron)\n",
    "\n",
    "# Next, define the training function that receives training and validation datasets, along with a model, loss function, \n",
    "# optimizer, and number of epochs. The function must use the model's own parameter handling and the the input loss function\n",
    "# to automatically calculate the gradient of the loss wrt parameters (autograd), and use optimizer to update the parameters \n",
    "# and zero the gradients. \n",
    "\n",
    "def training_loop(n_epochs, optimizer, model, loss_fn, inp_train, inp_val, out_train, out_val):\n",
    "    for epoch in range(1, n_epochs+1):\n",
    "        prediction_train = model(inp_train)\n",
    "        prediction_val = model(inp_val)\n",
    "\n",
    "        los_train = loss_fn(prediction_train, out_train)\n",
    "        los_val = loss_fn(prediction_val, out_val)\n",
    "\n",
    "        optimizer.zero_grad()\n",
    "        los_train.backward()\n",
    "        optimizer.step()\n",
    "\n",
    "        if epoch <=5 or epoch % 1000 == 0:\n",
    "            print(\"epoch=%d train_loss=%f, val_loss=%f\" %(epoch, los_train, los_val))"
   ]
  },
  {
   "cell_type": "code",
   "execution_count": 86,
   "id": "a3b3b7ea-9e5a-4326-ac0a-dc6ae8f62da7",
   "metadata": {},
   "outputs": [
    {
     "name": "stdout",
     "output_type": "stream",
     "text": [
      "epoch=1 train_loss=154.542892, val_loss=38.982349\n",
      "epoch=2 train_loss=153.841934, val_loss=38.474941\n",
      "epoch=3 train_loss=153.145309, val_loss=37.972950\n",
      "epoch=4 train_loss=152.452179, val_loss=37.475773\n",
      "epoch=5 train_loss=151.761703, val_loss=36.982841\n",
      "epoch=1000 train_loss=3.708116, val_loss=1.881486\n",
      "epoch=2000 train_loss=1.462452, val_loss=0.118284\n",
      "epoch=3000 train_loss=0.682176, val_loss=0.139671\n",
      "epoch=4000 train_loss=0.338850, val_loss=0.203636\n",
      "epoch=5000 train_loss=0.205501, val_loss=0.232423\n",
      "epoch=6000 train_loss=0.405289, val_loss=0.175160\n",
      "epoch=7000 train_loss=0.294143, val_loss=0.180480\n",
      "epoch=8000 train_loss=0.236587, val_loss=0.180571\n",
      "epoch=9000 train_loss=0.198456, val_loss=0.178988\n",
      "epoch=10000 train_loss=0.173525, val_loss=0.176220\n"
     ]
    }
   ],
   "source": [
    "# Train your NN with built-in mean square error loss function and SGD optimizer. \n",
    "# Try different learning rates and number of epochs improve the results.\n",
    "\n",
    "import torch.optim as optim\n",
    "\n",
    "training_loop(\n",
    "    n_epochs=10000,\n",
    "    optimizer=optim.SGD(model.parameters(), lr=0.001),\n",
    "    model=model,\n",
    "    loss_fn=nn.MSELoss(),\n",
    "    inp_train=inp_train,\n",
    "    inp_val=inp_val,\n",
    "    out_train=out_train,\n",
    "    out_val=out_val\n",
    ")\n",
    "\n",
    "# Results with learning rates and number of epochs:  \n",
    "# train_loss=3.177183, val_loss=0.706517     n_epochs=1000  lr=0.01\n",
    "# train_loss=0.012412, val_loss=0.945085     n_epochs=10000 lr=0.01\n",
    "# train_loss=0.173525, val_loss=0.176220     n_epochs=10000 lr=0.001\n",
    "# train_loss=3.764897, val_loss=0.803051     n_epochs=1000  lr=0.001"
   ]
  },
  {
   "cell_type": "code",
   "execution_count": 87,
   "id": "f8b15d0e-32c9-4e19-8a4a-203594d8a31a",
   "metadata": {},
   "outputs": [
    {
     "data": {
      "text/plain": [
       "[<matplotlib.lines.Line2D at 0x160a9773110>]"
      ]
     },
     "execution_count": 87,
     "metadata": {},
     "output_type": "execute_result"
    },
    {
     "data": {
      "image/png": "[encoded data removed]",
      "text/plain": [
       "<Figure size 640x480 with 1 Axes>"
      ]
     },
     "metadata": {},
     "output_type": "display_data"
    }
   ],
   "source": [
    "# Plot the trained function.\n",
    "\n",
    "from matplotlib import pyplot as plt\n",
    "\n",
    "# full dataset:\n",
    "preditctions = model(inp)\n",
    "\n",
    "plt.figure(dpi = 100)\n",
    "plt.xlabel(\"input\")\n",
    "plt.ylabel(\"output\")\n",
    "plt.plot(inp.numpy(), preditctions.detach().numpy(), 'x')\n",
    "plt.plot(inp.numpy(), out.numpy(), 'o')"
   ]
  },
  {
   "cell_type": "code",
   "execution_count": 88,
   "id": "96fc9c48",
   "metadata": {},
   "outputs": [
    {
     "data": {
      "text/plain": [
       "[<matplotlib.lines.Line2D at 0x160a97ab490>]"
      ]
     },
     "execution_count": 88,
     "metadata": {},
     "output_type": "execute_result"
    },
    {
     "data": {
      "image/png": "[encoded data removed]",
      "text/plain": [
       "<Figure size 640x480 with 1 Axes>"
      ]
     },
     "metadata": {},
     "output_type": "display_data"
    }
   ],
   "source": [
    "# validation only:\n",
    "preditctions = model(inp_val)\n",
    "\n",
    "plt.figure(dpi = 100)\n",
    "plt.xlabel(\"input\")\n",
    "plt.ylabel(\"output\")\n",
    "plt.plot(inp_val.numpy(), preditctions.detach().numpy(), 'x')\n",
    "plt.plot(inp_val.numpy(), out_val.numpy(), 'o')"
   ]
  },
  {
   "cell_type": "code",
   "execution_count": 89,
   "id": "c6b88889",
   "metadata": {},
   "outputs": [
    {
     "data": {
      "text/plain": [
       "[<matplotlib.lines.Line2D at 0x160a984e210>]"
      ]
     },
     "execution_count": 89,
     "metadata": {},
     "output_type": "execute_result"
    },
    {
     "data": {
      "image/png": "[encoded data removed]",
      "text/plain": [
       "<Figure size 640x480 with 1 Axes>"
      ]
     },
     "metadata": {},
     "output_type": "display_data"
    }
   ],
   "source": [
    "# training only:\n",
    "preditctions = model(inp_train)\n",
    "\n",
    "plt.figure(dpi = 100)\n",
    "plt.xlabel(\"input\")\n",
    "plt.ylabel(\"output\")\n",
    "plt.plot(inp_train.numpy(), preditctions.detach().numpy(), 'x')\n",
    "plt.plot(inp_train.numpy(), out_train.numpy(), 'o')"
   ]
  },
  {
   "cell_type": "code",
   "execution_count": null,
   "id": "5fbd4560",
   "metadata": {},
   "outputs": [],
   "source": []
  }
 ],
 "metadata": {
  "kernelspec": {
   "display_name": "Python 3 (ipykernel)",
   "language": "python",
   "name": "python3"
  },
  "language_info": {
   "codemirror_mode": {
    "name": "ipython",
    "version": 3
   },
   "file_extension": ".py",
   "mimetype": "text/x-python",
   "name": "python",
   "nbconvert_exporter": "python",
   "pygments_lexer": "ipython3",
   "version": "3.11.9"
  }
 },
 "nbformat": 4,
 "nbformat_minor": 5
}
