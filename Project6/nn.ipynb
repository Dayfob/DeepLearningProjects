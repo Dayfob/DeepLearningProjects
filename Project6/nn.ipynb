{
 "cells": [
  {
   "cell_type": "code",
   "execution_count": 1,
   "metadata": {},
   "outputs": [],
   "source": [
    "import torch\n",
    "import numpy as np\n",
    "import torch.optim as optim\n",
    "\n",
    "t_u = [35.7, 55.9, 58.2, 81.9, 56.3, 48.9, 33.9, 21.8, 48.4, 60.4, 68.4]\n",
    "t_c = [0.5, 14.0, 15.0, 28.0, 11.0, 8.0, 3.0, -4.0, 6.0, 13.0, 21.0]\n",
    "\n",
    "t_u = torch.tensor(t_u).unsqueeze(1) #input\n",
    "t_c = torch.tensor(t_c).unsqueeze(1) #ground truth\n",
    "\n",
    "n_samples = t_u.shape[0]\n",
    "n_val = int (0.2 * n_samples)\n",
    "\n",
    "random_indexes = torch.randperm(n_samples)\n",
    "train_indexes = random_indexes[:-n_val]\n",
    "val_indexes = random_indexes[-n_val:]\n",
    "\n",
    "t_c_train = t_c[train_indexes]\n",
    "t_u_train = t_u[train_indexes]\n",
    "t_c_val = t_c[val_indexes]\n",
    "t_u_val = t_u[val_indexes]\n",
    "\n",
    "t_un_train = 0.1 * t_u_train\n",
    "t_un_val = 0.1 * t_u_val"
   ]
  },
  {
   "cell_type": "code",
   "execution_count": 2,
   "metadata": {},
   "outputs": [
    {
     "data": {
      "text/plain": [
       "tensor([[-2.1879],\n",
       "        [-2.4343],\n",
       "        [-1.7708],\n",
       "        [-2.4474],\n",
       "        [-2.8448],\n",
       "        [-1.3143],\n",
       "        [-1.7117],\n",
       "        [-3.2882],\n",
       "        [-2.5821]], grad_fn=<AddmmBackward0>)"
      ]
     },
     "execution_count": 2,
     "metadata": {},
     "output_type": "execute_result"
    }
   ],
   "source": [
    "import torch.nn as nn\n",
    "\n",
    "linear_model = nn.Linear(1,1) # 1 input, 1 output\n",
    "linear_model.weight, linear_model.bias, list(linear_model.parameters())\n",
    "\n",
    "linear_model(t_un_train)"
   ]
  },
  {
   "cell_type": "code",
   "execution_count": 3,
   "metadata": {},
   "outputs": [],
   "source": [
    "def training_loop(n_epochs, optimizer, model, loss_fn, t_u_train, t_u_val, t_c_train, t_c_val):\n",
    "    for epoch in range(1, n_epochs+1):\n",
    "        t_p_train = model(t_u_train)\n",
    "        t_p_val = model(t_u_val)\n",
    "\n",
    "        los_train = loss_fn(t_p_train, t_c_train)\n",
    "        los_val = loss_fn(t_p_val, t_c_val)\n",
    "\n",
    "        optimizer.zero_grad()\n",
    "        los_train.backward()\n",
    "        optimizer.step()\n",
    "\n",
    "        if epoch <=5 or epoch % 1000 == 0:\n",
    "            print(\"epoch=%d train_loss=%f, val loss=%f\" %(epoch, los_train, los_val))"
   ]
  },
  {
   "cell_type": "code",
   "execution_count": 4,
   "metadata": {},
   "outputs": [
    {
     "name": "stdout",
     "output_type": "stream",
     "text": [
      "epoch=1 train_loss=260.317047, val loss=205.360962\n",
      "epoch=2 train_loss=68.292023, val loss=31.511799\n",
      "epoch=3 train_loss=38.744064, val loss=8.320328\n",
      "epoch=4 train_loss=34.110020, val loss=6.108861\n",
      "epoch=5 train_loss=33.296577, val loss=6.285840\n",
      "epoch=1000 train_loss=3.869721, val loss=1.446539\n",
      "epoch=2000 train_loss=3.358438, val loss=1.093300\n",
      "epoch=3000 train_loss=3.349701, val loss=1.053075\n",
      "epoch=4000 train_loss=3.349551, val loss=1.047917\n",
      "epoch=5000 train_loss=3.349548, val loss=1.047249\n",
      "epoch=6000 train_loss=3.349550, val loss=1.047214\n",
      "epoch=7000 train_loss=3.349550, val loss=1.047214\n",
      "epoch=8000 train_loss=3.349550, val loss=1.047214\n",
      "epoch=9000 train_loss=3.349550, val loss=1.047214\n",
      "epoch=10000 train_loss=3.349550, val loss=1.047214\n"
     ]
    }
   ],
   "source": [
    "training_loop(\n",
    "    n_epochs=10000,\n",
    "    optimizer=optim.SGD(linear_model.parameters(), lr=0.01),\n",
    "    model=linear_model,\n",
    "    loss_fn=nn.MSELoss(),\n",
    "    t_c_train=t_c_train,\n",
    "    t_c_val=t_c_val,\n",
    "    t_u_train=t_un_train,\n",
    "    t_u_val=t_un_val\n",
    ")"
   ]
  },
  {
   "cell_type": "code",
   "execution_count": 5,
   "metadata": {},
   "outputs": [
    {
     "data": {
      "text/plain": [
       "(Parameter containing:\n",
       " tensor([[5.3331]], requires_grad=True),\n",
       " Parameter containing:\n",
       " tensor([-17.1405], requires_grad=True))"
      ]
     },
     "execution_count": 5,
     "metadata": {},
     "output_type": "execute_result"
    }
   ],
   "source": [
    "linear_model.weight, linear_model.bias"
   ]
  },
  {
   "cell_type": "code",
   "execution_count": 6,
   "metadata": {},
   "outputs": [
    {
     "data": {
      "text/plain": [
       "[torch.Size([13, 1]), torch.Size([13]), torch.Size([1, 13]), torch.Size([1])]"
      ]
     },
     "execution_count": 6,
     "metadata": {},
     "output_type": "execute_result"
    }
   ],
   "source": [
    "seq_model = nn.Sequential(\n",
    "    nn.Linear(1,13),# 1 input feature, 13 output features, bias is on\n",
    "                    # 13 neurons having 1 weight and 1 bias (weights and bias are different for each neuron)\n",
    "    nn.Tanh(),      \n",
    "    nn.Linear(13,1) # 13 input featues, 1 output feature, bias is on\n",
    "                    # 1 neuron consisting of 13 weights and 1 bias \n",
    ")\n",
    "\n",
    "[param.shape for param in list(seq_model.parameters())]"
   ]
  },
  {
   "cell_type": "code",
   "execution_count": 7,
   "metadata": {},
   "outputs": [
    {
     "data": {
      "text/plain": [
       "[('0.weight',\n",
       "  Parameter containing:\n",
       "  tensor([[-0.8288],\n",
       "          [-0.1292],\n",
       "          [ 0.3106],\n",
       "          [-0.6993],\n",
       "          [-0.4686],\n",
       "          [-0.3729],\n",
       "          [-0.6381],\n",
       "          [ 0.1103],\n",
       "          [-0.1762],\n",
       "          [ 0.1936],\n",
       "          [-0.3918],\n",
       "          [ 0.2323],\n",
       "          [ 0.7399]], requires_grad=True)),\n",
       " ('0.bias',\n",
       "  Parameter containing:\n",
       "  tensor([ 0.1814, -0.6659,  0.0710, -0.7264, -0.8462,  0.5309, -0.9990, -0.0779,\n",
       "          -0.2745, -0.0467,  0.1551,  0.6646,  0.6557], requires_grad=True)),\n",
       " ('2.weight',\n",
       "  Parameter containing:\n",
       "  tensor([[-0.2069,  0.0471,  0.0845,  0.2172, -0.0915, -0.0233,  0.2360,  0.2205,\n",
       "            0.1330,  0.1652, -0.0272, -0.1189, -0.1483]], requires_grad=True)),\n",
       " ('2.bias',\n",
       "  Parameter containing:\n",
       "  tensor([0.2231], requires_grad=True))]"
      ]
     },
     "execution_count": 7,
     "metadata": {},
     "output_type": "execute_result"
    }
   ],
   "source": [
    "list(seq_model.named_parameters())"
   ]
  },
  {
   "cell_type": "code",
   "execution_count": 8,
   "metadata": {},
   "outputs": [
    {
     "data": {
      "text/plain": [
       "(Parameter containing:\n",
       " tensor([[ 0.3428],\n",
       "         [-0.0928],\n",
       "         [-0.7391],\n",
       "         [ 0.8620],\n",
       "         [-0.4952],\n",
       "         [-0.2017],\n",
       "         [ 0.4580],\n",
       "         [ 0.7286],\n",
       "         [ 0.6362]], requires_grad=True),\n",
       " Parameter containing:\n",
       " tensor([-0.1624], requires_grad=True))"
      ]
     },
     "execution_count": 8,
     "metadata": {},
     "output_type": "execute_result"
    }
   ],
   "source": [
    "from collections import OrderedDict\n",
    "\n",
    "seq_model_2 = nn.Sequential(OrderedDict([\n",
    "    ('hidden_linear', nn.Linear(1,9)),\n",
    "    ('hidden_activation', nn.Tanh()),\n",
    "    ('output_linear', nn.Linear(9,1)),\n",
    "]))\n",
    "\n",
    "seq_model_2\n",
    "seq_model_2.hidden_linear.weight, seq_model_2.output_linear.bias"
   ]
  },
  {
   "cell_type": "code",
   "execution_count": 9,
   "metadata": {},
   "outputs": [
    {
     "name": "stdout",
     "output_type": "stream",
     "text": [
      "epoch=1 train_loss=196.075256, val loss=144.222198\n",
      "epoch=2 train_loss=146.724747, val loss=89.663666\n",
      "epoch=3 train_loss=118.060478, val loss=57.598068\n",
      "epoch=4 train_loss=101.393654, val loss=38.655273\n",
      "epoch=5 train_loss=91.722412, val loss=27.780794\n",
      "epoch=1000 train_loss=10.312040, val loss=3.710166\n",
      "epoch=2000 train_loss=1.666685, val loss=1.138030\n",
      "epoch=3000 train_loss=1.414507, val loss=1.660939\n",
      "epoch=4000 train_loss=1.307508, val loss=1.994859\n",
      "epoch=5000 train_loss=1.240702, val loss=2.221145\n",
      "epoch=6000 train_loss=1.190571, val loss=2.387336\n",
      "epoch=7000 train_loss=1.149686, val loss=2.517653\n",
      "epoch=8000 train_loss=1.115078, val loss=2.624150\n",
      "epoch=9000 train_loss=1.085275, val loss=2.713218\n",
      "epoch=10000 train_loss=1.059381, val loss=2.788477\n"
     ]
    }
   ],
   "source": [
    "training_loop(\n",
    "    n_epochs=10000,\n",
    "    optimizer=optim.SGD(seq_model.parameters(), lr=0.01),\n",
    "    model=seq_model,\n",
    "    loss_fn=nn.MSELoss(),\n",
    "    t_c_train=t_c_train,\n",
    "    t_c_val=t_c_val,\n",
    "    t_u_train=t_un_train,\n",
    "    t_u_val=t_un_val\n",
    ")"
   ]
  },
  {
   "cell_type": "code",
   "execution_count": 10,
   "metadata": {},
   "outputs": [],
   "source": [
    "list(seq_model.parameters())\n",
    "\n",
    "t_p = seq_model(t_u * 0.1)"
   ]
  },
  {
   "cell_type": "code",
   "execution_count": 11,
   "metadata": {},
   "outputs": [
    {
     "data": {
      "text/plain": [
       "tensor([[20],\n",
       "        [21],\n",
       "        [22],\n",
       "        [23],\n",
       "        [24],\n",
       "        [25],\n",
       "        [26],\n",
       "        [27],\n",
       "        [28],\n",
       "        [29],\n",
       "        [30],\n",
       "        [31],\n",
       "        [32],\n",
       "        [33],\n",
       "        [34],\n",
       "        [35],\n",
       "        [36],\n",
       "        [37],\n",
       "        [38],\n",
       "        [39],\n",
       "        [40],\n",
       "        [41],\n",
       "        [42],\n",
       "        [43],\n",
       "        [44],\n",
       "        [45],\n",
       "        [46],\n",
       "        [47],\n",
       "        [48],\n",
       "        [49],\n",
       "        [50],\n",
       "        [51],\n",
       "        [52],\n",
       "        [53],\n",
       "        [54],\n",
       "        [55],\n",
       "        [56],\n",
       "        [57],\n",
       "        [58],\n",
       "        [59],\n",
       "        [60],\n",
       "        [61],\n",
       "        [62],\n",
       "        [63],\n",
       "        [64],\n",
       "        [65],\n",
       "        [66],\n",
       "        [67],\n",
       "        [68],\n",
       "        [69],\n",
       "        [70],\n",
       "        [71],\n",
       "        [72],\n",
       "        [73],\n",
       "        [74],\n",
       "        [75],\n",
       "        [76],\n",
       "        [77],\n",
       "        [78],\n",
       "        [79],\n",
       "        [80],\n",
       "        [81],\n",
       "        [82],\n",
       "        [83],\n",
       "        [84],\n",
       "        [85],\n",
       "        [86],\n",
       "        [87],\n",
       "        [88],\n",
       "        [89]])"
      ]
     },
     "execution_count": 11,
     "metadata": {},
     "output_type": "execute_result"
    }
   ],
   "source": [
    "range_t = torch.arange(20,90).unsqueeze(1)\n",
    "range_t"
   ]
  },
  {
   "cell_type": "code",
   "execution_count": 12,
   "metadata": {},
   "outputs": [
    {
     "data": {
      "text/plain": [
       "[<matplotlib.lines.Line2D at 0x1cca7ee1c10>]"
      ]
     },
     "execution_count": 12,
     "metadata": {},
     "output_type": "execute_result"
    },
    {
     "data": {
      "image/png": "[encoded data removed]",
      "text/plain": [
       "<Figure size 640x480 with 1 Axes>"
      ]
     },
     "metadata": {},
     "output_type": "display_data"
    }
   ],
   "source": [
    "from matplotlib import pyplot as plt\n",
    "\n",
    "plt.figure(dpi = 100)\n",
    "plt.xlabel(\"measurement\")\n",
    "plt.ylabel(\"celcius\")\n",
    "plt.plot(range_t.numpy(), seq_model(range_t*0.1).detach().numpy())\n",
    "plt.plot(t_u.numpy(), t_p.detach().numpy(), 'x')\n",
    "plt.plot(t_u.numpy(), t_c.numpy(), 'o')"
   ]
  },
  {
   "cell_type": "code",
   "execution_count": null,
   "metadata": {},
   "outputs": [],
   "source": []
  }
 ],
 "metadata": {
  "kernelspec": {
   "display_name": "base",
   "language": "python",
   "name": "python3"
  },
  "language_info": {
   "codemirror_mode": {
    "name": "ipython",
    "version": 3
   },
   "file_extension": ".py",
   "mimetype": "text/x-python",
   "name": "python",
   "nbconvert_exporter": "python",
   "pygments_lexer": "ipython3",
   "version": "3.11.9"
  }
 },
 "nbformat": 4,
 "nbformat_minor": 2
}
