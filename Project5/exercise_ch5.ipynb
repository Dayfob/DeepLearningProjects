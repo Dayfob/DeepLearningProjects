{
 "cells": [
  {
   "cell_type": "code",
   "execution_count": 1,
   "id": "069e89fa-8aa8-478c-8d9d-c100df43b3ab",
   "metadata": {},
   "outputs": [],
   "source": [
    "# Input and output vectors are given. \n",
    "inp = [ 0.7300, -1.0400, -1.2300,  1.6700, -0.6300,  1.4300, -0.8400,  0.1500,\n",
    "         -2.3000,  3.1000, -1.4500, -1.8100,  1.8700, -0.1100, -0.2800,  1.1200,\n",
    "         -0.4200,  2.8900]\n",
    "out = [ 1.43,  10.1,  8.3,  1.03,  10.21, -0.1,  8.92,  5.1,\n",
    "         -7.53, 34.72,  7.61,  3.2,  2.19,  7.15,  7.69, -0.18,\n",
    "          8.81, 23.1]"
   ]
  },
  {
   "cell_type": "code",
   "execution_count": 2,
   "id": "85cd7d2d-2354-4415-945e-706b1dafebc5",
   "metadata": {},
   "outputs": [],
   "source": [
    "# Define the polynomial model of degree 3, i.e., having 3 weights and 1 bias. \n",
    "# Also define the loss function\n",
    "\n",
    "def model(inp, w_a, w_b, w_c, b):\n",
    "    return w_a * inp ** 3 + w_b * inp ** 2 + w_c * inp + b\n",
    "\n",
    "def loss_fn(prediction, out):\n",
    "    return ((prediction - out)**2).mean()"
   ]
  },
  {
   "cell_type": "code",
   "execution_count": 3,
   "id": "ff844417-2447-4cd8-92dc-92c608f3fb72",
   "metadata": {},
   "outputs": [
    {
     "name": "stdout",
     "output_type": "stream",
     "text": [
      "epoch 1000 loss 7.206725\n",
      "epoch 2000 loss 1.559047\n",
      "epoch 3000 loss 0.637284\n",
      "epoch 4000 loss 0.485404\n",
      "epoch 5000 loss 0.460195\n",
      "epoch 6000 loss 0.455988\n",
      "epoch 7000 loss 0.455281\n",
      "epoch 8000 loss 0.455163\n",
      "epoch 9000 loss 0.455142\n",
      "epoch 10000 loss 0.455140\n"
     ]
    },
    {
     "data": {
      "text/plain": [
       "[<matplotlib.lines.Line2D at 0x1a8fb535d90>]"
      ]
     },
     "execution_count": 3,
     "metadata": {},
     "output_type": "execute_result"
    },
    {
     "data": {
      "image/png": "[encoded data removed]",
      "text/plain": [
       "<Figure size 640x480 with 1 Axes>"
      ]
     },
     "metadata": {},
     "output_type": "display_data"
    }
   ],
   "source": [
    "# Define gradient manually wrt the exisiting parameters\n",
    "# Note: You need to define appropriate derivative functions to define the gradient\n",
    "# Use the defined gradient function to define the training function \n",
    "# Note: You cannot use autograd and optimizers\n",
    "# Run it on the input and output vector with appropriate learning rate and number of iterations\n",
    "# Plot the learned curve\n",
    "\n",
    "import torch\n",
    "from matplotlib import pyplot as plt\n",
    "\n",
    "# derivative of loss wrt the model\n",
    "def d_loss_wrt_model(prediction, out):\n",
    "    return 2.0 * (prediction - out) / prediction.size(0)\n",
    "\n",
    "# derivative of loss wrt the weight a\n",
    "def d_model_wrt_w_a(inp, w_a, w_b, w_c, b):\n",
    "    return inp ** 3\n",
    "\n",
    "# derivative of loss wrt the weight b\n",
    "def d_model_wrt_w_b(inp, w_a, w_b, w_c, b):\n",
    "    return inp ** 2\n",
    "\n",
    "# derivative of loss wrt the weight c\n",
    "def d_model_wrt_w_c(inp, w_a, w_b, w_c, b):\n",
    "    return inp\n",
    "    \n",
    "# derivative of loss wrt the bias\n",
    "def d_model_wrt_b(inp, w_a, w_b, w_c, b):\n",
    "    return 1.0\n",
    "\n",
    "# gradient function\n",
    "def gradient_fn(inp, out, prediction, w_a, w_b, w_c, b):\n",
    "    d_loss_wrt_w_a = d_loss_wrt_model(prediction, out) * d_model_wrt_w_a(inp, w_a, w_b, w_c, b)\n",
    "    d_loss_wrt_w_b = d_loss_wrt_model(prediction, out) * d_model_wrt_w_b(inp, w_a, w_b, w_c, b)\n",
    "    d_loss_wrt_w_c = d_loss_wrt_model(prediction, out) * d_model_wrt_w_c(inp, w_a, w_b, w_c, b)\n",
    "    d_loss_wrt_b = d_loss_wrt_model(prediction, out) * d_model_wrt_b(inp, w_a, w_b, w_c, b)\n",
    "    return torch.stack([d_loss_wrt_w_a.sum(), d_loss_wrt_w_b.sum(), d_loss_wrt_w_c.sum(), d_loss_wrt_b.sum()])\n",
    "\n",
    "# training loop\n",
    "def training_loop(n_epochs, learning_rate, params, out, inp):\n",
    "    for epoch in range(1, n_epochs + 1):\n",
    "        prediction = model(inp, *params)\n",
    "        grad = gradient_fn(inp, out, prediction, *params)\n",
    "        params = params - learning_rate * grad # gradient descent\n",
    "        if epoch % 1000 == 0:\n",
    "            print(\"epoch %d loss %f\" %(epoch, loss_fn(prediction, out)))\n",
    "    return params\n",
    "\n",
    "\n",
    "params = torch.tensor([1.0, 1.0, 1.0, 1.0])\n",
    "inp = torch.tensor(inp) #input\n",
    "out = torch.tensor(out) #ground truth\n",
    "\n",
    "params = training_loop(n_epochs = 10000,\n",
    "              learning_rate = 0.001,\n",
    "              params = params,\n",
    "              out = out,\n",
    "              inp = inp)\n",
    "\n",
    "prediction = model(inp, *params)\n",
    "\n",
    "plt.figure(dpi = 100)\n",
    "plt.xlabel(\"input\")\n",
    "plt.ylabel(\"output\")\n",
    "plt.plot(inp.numpy(), prediction.numpy(), 'x')\n",
    "plt.plot(inp.numpy(), out.numpy(), '+')"
   ]
  },
  {
   "cell_type": "code",
   "execution_count": 4,
   "id": "2268934b-6862-422d-9960-a9e30091edd0",
   "metadata": {},
   "outputs": [
    {
     "name": "stderr",
     "output_type": "stream",
     "text": [
      "C:\\Users\\semem\\AppData\\Local\\Temp\\ipykernel_66960\\1685373768.py:21: UserWarning: To copy construct from a tensor, it is recommended to use sourceTensor.clone().detach() or sourceTensor.clone().detach().requires_grad_(True), rather than torch.tensor(sourceTensor).\n",
      "  inp = torch.tensor(inp) #input\n",
      "C:\\Users\\semem\\AppData\\Local\\Temp\\ipykernel_66960\\1685373768.py:22: UserWarning: To copy construct from a tensor, it is recommended to use sourceTensor.clone().detach() or sourceTensor.clone().detach().requires_grad_(True), rather than torch.tensor(sourceTensor).\n",
      "  out = torch.tensor(out) #ground truth\n"
     ]
    },
    {
     "name": "stdout",
     "output_type": "stream",
     "text": [
      "epoch 1000 loss 7.206725\n",
      "epoch 2000 loss 1.559047\n",
      "epoch 3000 loss 0.637284\n",
      "epoch 4000 loss 0.485404\n",
      "epoch 5000 loss 0.460195\n",
      "epoch 6000 loss 0.455988\n",
      "epoch 7000 loss 0.455281\n",
      "epoch 8000 loss 0.455163\n",
      "epoch 9000 loss 0.455142\n",
      "epoch 10000 loss 0.455140\n"
     ]
    },
    {
     "data": {
      "text/plain": [
       "[<matplotlib.lines.Line2D at 0x1a8fbea9810>]"
      ]
     },
     "execution_count": 4,
     "metadata": {},
     "output_type": "execute_result"
    },
    {
     "data": {
      "image/png": "[encoded data removed]",
      "text/plain": [
       "<Figure size 640x480 with 1 Axes>"
      ]
     },
     "metadata": {},
     "output_type": "display_data"
    }
   ],
   "source": [
    "# Use PyTorch's autograd to automatically compute the gradients \n",
    "# Define the training function\n",
    "# Note: You cannot use optimizers.\n",
    "# Run it on the input and output vector with appropriate learning rate and number of iterations\n",
    "# Plot the learned curve\n",
    "\n",
    "def training_loop_2(n_epochs, learning_rate, params, out, inp):\n",
    "    for epoch in range(1, 1 + n_epochs):\n",
    "        prediction = model(inp, *params)\n",
    "        loss = loss_fn(prediction, out)\n",
    "        if params.grad is not None:\n",
    "            params.grad.zero_()\n",
    "        loss.backward() # gradient is computed and stored in params.grad\n",
    "        with torch.no_grad():\n",
    "            params -= learning_rate * params.grad # gradient descent\n",
    "        if (epoch % 1000 == 0):\n",
    "            print(\"epoch %d loss %f\" %(epoch, loss)) \n",
    "    return params\n",
    "\n",
    "params = torch.tensor([1.0, 1.0, 1.0, 1.0], requires_grad=True)\n",
    "inp = torch.tensor(inp) #input\n",
    "out = torch.tensor(out) #ground truth\n",
    "\n",
    "params = training_loop_2(n_epochs = 10000,\n",
    "              learning_rate = 0.001,\n",
    "              params = params,\n",
    "              out = out,\n",
    "              inp = inp)\n",
    "\n",
    "prediction = model(inp, *params)\n",
    "\n",
    "plt.figure(dpi = 100)\n",
    "plt.xlabel(\"input\")\n",
    "plt.ylabel(\"output\")\n",
    "plt.plot(inp.numpy(), prediction.detach().numpy(), 'x')\n",
    "plt.plot(inp.numpy(), out.numpy(), '+')"
   ]
  },
  {
   "cell_type": "code",
   "execution_count": 5,
   "id": "09b8d657-4aef-42a0-806e-0f3fa5c8d4a0",
   "metadata": {},
   "outputs": [
    {
     "name": "stderr",
     "output_type": "stream",
     "text": [
      "C:\\Users\\semem\\AppData\\Local\\Temp\\ipykernel_66960\\664837462.py:25: UserWarning: To copy construct from a tensor, it is recommended to use sourceTensor.clone().detach() or sourceTensor.clone().detach().requires_grad_(True), rather than torch.tensor(sourceTensor).\n",
      "  inp = torch.tensor(inp) #input\n",
      "C:\\Users\\semem\\AppData\\Local\\Temp\\ipykernel_66960\\664837462.py:26: UserWarning: To copy construct from a tensor, it is recommended to use sourceTensor.clone().detach() or sourceTensor.clone().detach().requires_grad_(True), rather than torch.tensor(sourceTensor).\n",
      "  out = torch.tensor(out) #ground truth\n"
     ]
    },
    {
     "name": "stdout",
     "output_type": "stream",
     "text": [
      "epoch 1000 loss 7.206725\n",
      "epoch 2000 loss 1.559047\n",
      "epoch 3000 loss 0.637284\n",
      "epoch 4000 loss 0.485404\n",
      "epoch 5000 loss 0.460195\n",
      "epoch 6000 loss 0.455988\n",
      "epoch 7000 loss 0.455281\n",
      "epoch 8000 loss 0.455163\n",
      "epoch 9000 loss 0.455142\n",
      "epoch 10000 loss 0.455140\n"
     ]
    },
    {
     "data": {
      "text/plain": [
       "[<matplotlib.lines.Line2D at 0x1a8fee5db50>]"
      ]
     },
     "execution_count": 5,
     "metadata": {},
     "output_type": "execute_result"
    },
    {
     "data": {
      "image/png": "[encoded data removed]",
      "text/plain": [
       "<Figure size 640x480 with 1 Axes>"
      ]
     },
     "metadata": {},
     "output_type": "display_data"
    }
   ],
   "source": [
    "# Use PyTorch's autograd to automatically compute the gradients \n",
    "# Use optimizers to abstract how parameters get updated\n",
    "# Define the training function\n",
    "# Run it on the input and output vector with appropriate learning rate, number of iterations, and SGD optimizer\n",
    "# Plot the learned curve\n",
    "\n",
    "import torch.optim as optim\n",
    "\n",
    "def training_loop_3(n_epochs, optimizer, params, out, inp):\n",
    "    for epoch in range(1, 1 + n_epochs):\n",
    "        prediction = model(inp, *params)\n",
    "        loss = loss_fn(prediction, out)\n",
    "\n",
    "        optimizer.zero_grad()\n",
    "        loss.backward() # gradient is computed and stored in params.grad\n",
    "        optimizer.step()\n",
    "        \n",
    "        \n",
    "        if (epoch % 1000 == 0):\n",
    "            print(\"epoch %d loss %f\" %(epoch, loss)) \n",
    "    return params\n",
    "\n",
    "\n",
    "params = torch.tensor([1.0, 1.0, 1.0, 1.0], requires_grad=True)\n",
    "inp = torch.tensor(inp) #input\n",
    "out = torch.tensor(out) #ground truth\n",
    "\n",
    "params = training_loop_3(n_epochs = 10000,\n",
    "              optimizer = optim.SGD([params], lr=0.001),\n",
    "              params = params,\n",
    "              out = out,\n",
    "              inp = inp)\n",
    "\n",
    "prediction = model(inp, *params)\n",
    "\n",
    "plt.figure(dpi = 100)\n",
    "plt.xlabel(\"input\")\n",
    "plt.ylabel(\"output\")\n",
    "plt.plot(inp.numpy(), prediction.detach().numpy(), 'x')\n",
    "plt.plot(inp.numpy(), out.numpy(), '+')"
   ]
  },
  {
   "cell_type": "code",
   "execution_count": 6,
   "id": "f961f2ff-d345-4ef6-98ab-047ed9f4411d",
   "metadata": {},
   "outputs": [
    {
     "name": "stdout",
     "output_type": "stream",
     "text": [
      "epoch 1000 loss 7.175776,  20.420048\n",
      "epoch 2000 loss 1.412729,  8.353414\n",
      "epoch 3000 loss 0.348137,  5.819050\n",
      "epoch 4000 loss 0.148024,  5.251567\n",
      "epoch 5000 loss 0.109984,  5.119362\n",
      "epoch 6000 loss 0.102703,  5.088820\n",
      "epoch 7000 loss 0.101303,  5.082519\n",
      "epoch 8000 loss 0.101033,  5.081771\n",
      "epoch 9000 loss 0.100981,  5.082016\n",
      "epoch 10000 loss 0.100971,  5.082311\n"
     ]
    },
    {
     "data": {
      "text/plain": [
       "[<matplotlib.lines.Line2D at 0x1a8feecd0d0>]"
      ]
     },
     "execution_count": 6,
     "metadata": {},
     "output_type": "execute_result"
    },
    {
     "data": {
      "image/png": "[encoded data removed]",
      "text/plain": [
       "<Figure size 640x480 with 1 Axes>"
      ]
     },
     "metadata": {},
     "output_type": "display_data"
    }
   ],
   "source": [
    "# Split the dataset to training set (80%) and validation set (20%) randomly\n",
    "# Use PyTorch's autograd to automatically compute the gradients \n",
    "# Use optimizers to abstract how parameters get updated\n",
    "# Define the training function that tracks both training and validation losses\n",
    "# Run it on the input and output vector with appropriate learning rate, number of iterations, and SGD optimizer\n",
    "# Plot the learned curve\n",
    "\n",
    "n_samples = inp.size(0)\n",
    "n_val = int (0.2 * n_samples)\n",
    "\n",
    "random_indexes = torch.randperm(n_samples)\n",
    "train_indexes = random_indexes[:-n_val]\n",
    "val_indexes = random_indexes[-n_val:]\n",
    "\n",
    "train_inp = inp[train_indexes]\n",
    "train_out = out[train_indexes]\n",
    "val_inp = inp[val_indexes]\n",
    "val_out = out[val_indexes]\n",
    "\n",
    "def training_loop_4(n_epochs, optimizer, params, train_inp, train_out, val_inp, val_out):\n",
    "    for epoch in range(1, 1 + n_epochs):\n",
    "        train_prediction = model(train_inp, *params)\n",
    "        val_prediction = model(val_inp, *params)\n",
    "\n",
    "        train_loss = loss_fn(train_prediction, train_out)\n",
    "        val_loss = loss_fn(val_prediction, val_out)\n",
    "\n",
    "        optimizer.zero_grad()\n",
    "        train_loss.backward() # gradient is computed and stored in params.grad\n",
    "        optimizer.step()\n",
    "        \n",
    "        \n",
    "        if (epoch % 1000 == 0):\n",
    "            print(\"epoch %d loss %f,  %f\" %(epoch, train_loss, val_loss))\n",
    "    return params\n",
    "\n",
    "params = torch.tensor([1.0, 1.0, 1.0, 1.0], requires_grad=True)\n",
    "\n",
    "params = training_loop_4(n_epochs = 10000,\n",
    "              optimizer = optim.SGD([params], lr=0.001),\n",
    "              params = params,\n",
    "              train_inp = train_inp,\n",
    "              train_out = train_out,\n",
    "              val_inp = val_inp,\n",
    "              val_out = val_out)\n",
    "\n",
    "prediction = model(train_inp, *params) # training data predictions\n",
    "\n",
    "plt.figure(dpi = 100)\n",
    "plt.xlabel(\"input\")\n",
    "plt.ylabel(\"output\")\n",
    "plt.plot(train_inp.numpy(), prediction.detach().numpy(), 'x')\n",
    "plt.plot(train_inp.numpy(), train_out.numpy(), '+')"
   ]
  },
  {
   "cell_type": "code",
   "execution_count": 7,
   "id": "6469f62e",
   "metadata": {},
   "outputs": [
    {
     "data": {
      "text/plain": [
       "[<matplotlib.lines.Line2D at 0x1a8ff073190>]"
      ]
     },
     "execution_count": 7,
     "metadata": {},
     "output_type": "execute_result"
    },
    {
     "data": {
      "image/png": "[encoded data removed]",
      "text/plain": [
       "<Figure size 640x480 with 1 Axes>"
      ]
     },
     "metadata": {},
     "output_type": "display_data"
    }
   ],
   "source": [
    "prediction = model(val_inp, *params) # validation data predictions\n",
    "\n",
    "plt.figure(dpi = 100)\n",
    "plt.xlabel(\"input\")\n",
    "plt.ylabel(\"output\")\n",
    "plt.plot(val_inp.numpy(), prediction.detach().numpy(), 'x')\n",
    "plt.plot(val_inp.numpy(), val_out.numpy(), '+')"
   ]
  },
  {
   "cell_type": "code",
   "execution_count": null,
   "id": "70a14b2c",
   "metadata": {},
   "outputs": [],
   "source": []
  }
 ],
 "metadata": {
  "kernelspec": {
   "display_name": "Python 3 (ipykernel)",
   "language": "python",
   "name": "python3"
  },
  "language_info": {
   "codemirror_mode": {
    "name": "ipython",
    "version": 3
   },
   "file_extension": ".py",
   "mimetype": "text/x-python",
   "name": "python",
   "nbconvert_exporter": "python",
   "pygments_lexer": "ipython3",
   "version": "3.11.9"
  }
 },
 "nbformat": 4,
 "nbformat_minor": 5
}
