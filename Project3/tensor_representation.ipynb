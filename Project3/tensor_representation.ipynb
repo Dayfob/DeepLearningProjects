{
 "cells": [
  {
   "cell_type": "code",
   "execution_count": 5,
   "id": "e2813bf2-f59a-4e8a-a4de-141a290a1c48",
   "metadata": {},
   "outputs": [
    {
     "data": {
      "text/plain": [
       "(1280, 1045, 3)"
      ]
     },
     "execution_count": 5,
     "metadata": {},
     "output_type": "execute_result"
    }
   ],
   "source": [
    "import imageio\n",
    "\n",
    "img_arr = imageio.v2.imread(\"./dog1.jpg\")\n",
    "img_arr.shape"
   ]
  },
  {
   "cell_type": "code",
   "execution_count": 12,
   "id": "86ae2f2a-4112-451f-9c2c-1517ff8999d1",
   "metadata": {},
   "outputs": [
    {
     "data": {
      "text/plain": [
       "torch.Size([3, 1280, 1045])"
      ]
     },
     "execution_count": 12,
     "metadata": {},
     "output_type": "execute_result"
    }
   ],
   "source": [
    "import torch\n",
    "\n",
    "img_t = torch.from_numpy(img_arr)\n",
    "img_t = img_t.permute(2,0,1) #change dim positions\n",
    "img_t.shape"
   ]
  },
  {
   "cell_type": "code",
   "execution_count": 42,
   "id": "2501e3e8-0511-4f3d-af28-7bc34bf7a896",
   "metadata": {},
   "outputs": [],
   "source": [
    "import os\n",
    "\n",
    "data_dir = \"./image-cats/\"\n",
    "filenames = [name for name in os.listdir(data_dir) if os.path.splitext(name)[-1] == \".png\"]\n",
    "\n",
    "batch_size = 3\n",
    "n_channels = 3\n",
    "batch = torch.zeros(batch_size, n_channels, 256, 256, dtype = torch.uint8)\n",
    "# print(batch[0])\n",
    "\n",
    "for i, name in enumerate(filenames):\n",
    "    img_arr = imageio.v2.imread(os.path.join(data_dir, name))\n",
    "    img_t = torch.from_numpy(img_arr)\n",
    "    img_t = img_t.permute(2,0,1)\n",
    "    batch[i] = img_t\n",
    "\n",
    "batch = batch.float()\n",
    "batch = batch / 255.0\n",
    "# print(batch[0])\n",
    "\n",
    "for c in range(n_channels):\n",
    "    mean = torch.mean(batch[:, c])\n",
    "    std = torch.std(batch[:, c])\n",
    "    batch[:,c] = (batch[:,c] - mean) / std\n",
    "\n",
    "# print(batch[0])"
   ]
  },
  {
   "cell_type": "code",
   "execution_count": 51,
   "id": "c396caff-e801-4ee2-a14e-13dfc56466f0",
   "metadata": {},
   "outputs": [
    {
     "name": "stdout",
     "output_type": "stream",
     "text": [
      "Reading DICOM (examining files): 1/99 files (1.0%99/99 files (100.0%)\n",
      "  Found 1 correct series.\n",
      "Reading DICOM (loading data): 99/99  (100.0%)\n"
     ]
    }
   ],
   "source": [
    "data_dir = \"./volumetric-dicom/2-LUNG 3.0  B70f-04083/\"\n",
    "\n",
    "vol_arr = imageio.volread(data_dir, \"DICOM\")\n",
    "vol_arr.shape\n",
    "\n",
    "vol_t = torch.from_numpy(vol_arr)\n",
    "batch = vol_t.unsqueeze(0).unsqueeze(0) # add dimentions"
   ]
  },
  {
   "cell_type": "code",
   "execution_count": 88,
   "id": "8065effd-2128-4d63-8650-e4101b264e31",
   "metadata": {},
   "outputs": [
    {
     "data": {
      "text/plain": [
       "(torch.Size([20, 11]), torch.Size([3838, 11]), torch.Size([1060, 11]))"
      ]
     },
     "execution_count": 88,
     "metadata": {},
     "output_type": "execute_result"
    }
   ],
   "source": [
    "import numpy as np\n",
    "\n",
    "data_path = \"./tabular-wine/winequality-white.csv\"\n",
    "table_arr = np.loadtxt(data_path, dtype=np.float32, delimiter=';', skiprows=1)\n",
    "table_t = torch.from_numpy(table_arr)\n",
    "\n",
    "data_t = table_t[:,:-1] #features\n",
    "target_t = table_t[:,-1] #lables\n",
    "\n",
    "#1 : (1,0,0,0,0,0,0,0,0,0)\n",
    "#2 : (0,1,0,0,0,0,0,0,0,0) ...\n",
    "one_hot_target_t = torch.zeros(target_t.shape[0], 10).long()\n",
    "one_hot_target_t.scatter_(1, target_t.unsqueeze(1).long(), 1.0)\n",
    "\n",
    "#normaliztion:\n",
    "data_mean = torch.mean(data_t, dim=0)\n",
    "data_std = torch.std(data_t, dim=0)\n",
    "data_norm = (data_t - mean)/data_std\n",
    "\n",
    "# (target_t <= 3).sum()\n",
    "\n",
    "bad = data_t[(target_t <= 3)]\n",
    "medium = data_t[(target_t >= 3) & (target_t < 7)]\n",
    "good = data_t[(target_t >= 7)]\n",
    "\n",
    "bad.shape, medium.shape, good.shape"
   ]
  },
  {
   "cell_type": "code",
   "execution_count": null,
   "id": "4961cdf6-b2e7-4ea3-ad8e-7d4f139cc933",
   "metadata": {},
   "outputs": [],
   "source": []
  },
  {
   "cell_type": "code",
   "execution_count": null,
   "id": "2851278a-0390-4066-ac69-a5940e06027e",
   "metadata": {},
   "outputs": [],
   "source": []
  }
 ],
 "metadata": {
  "kernelspec": {
   "display_name": "Python 3 (ipykernel)",
   "language": "python",
   "name": "python3"
  },
  "language_info": {
   "codemirror_mode": {
    "name": "ipython",
    "version": 3
   },
   "file_extension": ".py",
   "mimetype": "text/x-python",
   "name": "python",
   "nbconvert_exporter": "python",
   "pygments_lexer": "ipython3",
   "version": "3.11.9"
  }
 },
 "nbformat": 4,
 "nbformat_minor": 5
}
