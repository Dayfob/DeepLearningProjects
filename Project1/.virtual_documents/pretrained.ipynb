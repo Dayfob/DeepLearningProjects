from torchvision import models
# dir(models)

alexnet = models.AlexNet()
resnet = models.resnet101(weights=True)


from torchvision import transforms

preprocess = transforms.Compose([
    transforms.Resize(256),
    transforms.CenterCrop(224),
    transforms.ToTensor(),
    transforms.Normalize(
        mean = [0.485, 0.456, 0.406],
        std = [0.229, 0.224, 0.225]
    )
])


from PIL import Image

# img1 = Image.open('./dog.jpg')
img1 = Image.open('./candy4.jpeg')
img2 = Image.open('./candy5.jpeg')

from matplotlib import pyplot as plt
plt.imshow(img1)


plt.imshow(img2)


img1_tensor = preprocess(img1)
img2_tensor = preprocess(img2)
img1_tensor.size()


import torch
batch1_tensor = torch.unsqueeze(img1_tensor, 0)
batch2_tensor = torch.unsqueeze(img2_tensor, 0)
batch1_tensor.size()


resnet.eval()
out1 = resnet(batch1_tensor)
out2 = resnet(batch2_tensor)
out1.size()


with open('./imagenet_classes.txt') as f:
    labels = [line.strip() for line in f.readlines()]

len(labels)


_, index1 = torch.max(out1, 1)
_, index2 = torch.max(out2, 1)


print(labels[index1])
print(labels[index2])


out1_normilized = torch.nn.functional.softmax(out1, dim=1)
out2_normilized = torch.nn.functional.softmax(out2, dim=1)

out1_percentage = out1_normilized[0] * 100
out2_percentage = out2_normilized[0] * 100

print(labels[index1], out1_percentage[index1].item())
print(labels[index2], out2_percentage[index2].item())
plt.imshow(img2)


_, indexes1 = torch.sort(out1, descending=True)
_, indexes2 = torch.sort(out2, descending=True)
top_indexes1 = indexes1[0][:10]
top_indexes2 = indexes2[0][:10]

[(labels[i], out1_percentage[i].item()) for i in top_indexes1]


[(labels[i], out2_percentage[i].item()) for i in top_indexes2]
